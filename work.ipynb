{
 "cells": [
  {
   "cell_type": "code",
   "execution_count": null,
   "metadata": {},
   "outputs": [],
   "source": [
    "# Это лучший скор, который удалось получить с помощью RandomForest\n",
    "# Я пытался добавить новые фичи, такие как количество домов в районе и средняя\n",
    "# цена квартиры в районе, но результат только снизился\n",
    "# На корреляционной матрице есть два сильно коррелирующих признака Social_1 и Social_2.\n",
    "# Я попытался удалить один из них, думал это улучшит модель, но скор снизился.\n",
    "# Скор удалось повысить на моем наборе фич, используя LightGBM. Но это не попадало под условия задания,\n",
    "# так что я остановился на таком варианте."
   ]
  },
  {
   "cell_type": "markdown",
   "metadata": {},
   "source": [
    "**Подключение библиотек и скриптов**"
   ]
  },
  {
   "cell_type": "code",
   "execution_count": 1,
   "metadata": {
    "ExecuteTime": {
     "end_time": "2020-07-09T20:46:23.155576Z",
     "start_time": "2020-07-09T20:46:20.938850Z"
    }
   },
   "outputs": [],
   "source": [
    "import numpy as np\n",
    "import pandas as pd\n",
    "import random\n",
    "\n",
    "from sklearn.model_selection import train_test_split, cross_val_score\n",
    "from sklearn.preprocessing import StandardScaler, MinMaxScaler\n",
    "from sklearn.ensemble import RandomForestRegressor\n",
    "from sklearn.metrics import r2_score\n",
    "from sklearn.model_selection import KFold, GridSearchCV\n",
    "\n",
    "import matplotlib\n",
    "import matplotlib.pyplot as plt\n",
    "import seaborn as sns\n",
    "%matplotlib inline"
   ]
  },
  {
   "cell_type": "code",
   "execution_count": 2,
   "metadata": {
    "ExecuteTime": {
     "end_time": "2020-07-09T20:46:23.162737Z",
     "start_time": "2020-07-09T20:46:23.157872Z"
    }
   },
   "outputs": [],
   "source": [
    "import warnings\n",
    "warnings.filterwarnings('ignore')"
   ]
  },
  {
   "cell_type": "code",
   "execution_count": 3,
   "metadata": {
    "ExecuteTime": {
     "end_time": "2020-07-09T20:46:23.176926Z",
     "start_time": "2020-07-09T20:46:23.167544Z"
    }
   },
   "outputs": [],
   "source": [
    "matplotlib.rcParams.update({'font.size': 14})\n",
    "pd.set_option('precision', 3)\n",
    "pd.set_option('max_columns', 100)\n",
    "pd.set_option('display.float_format', lambda x: '%.5f' % x)\n",
    "pd.set_option('display.max_columns', 500)\n",
    "pd.set_option('display.max_rows', 500)\n",
    "pd.set_option('max_colwidth', 300)"
   ]
  },
  {
   "cell_type": "markdown",
   "metadata": {},
   "source": [
    "**Пути к директориям и файлам**"
   ]
  },
  {
   "cell_type": "code",
   "execution_count": 4,
   "metadata": {
    "ExecuteTime": {
     "end_time": "2020-07-09T20:46:23.187636Z",
     "start_time": "2020-07-09T20:46:23.182727Z"
    }
   },
   "outputs": [],
   "source": [
    "TRAIN_DATASET_PATH = 'datasets/project_task/train.csv'\n",
    "TEST_DATASET_PATH = 'datasets/project_task/test.csv'"
   ]
  },
  {
   "cell_type": "markdown",
   "metadata": {},
   "source": [
    "### Загрузка данных"
   ]
  },
  {
   "cell_type": "markdown",
   "metadata": {},
   "source": [
    "**Описание датасета**\n",
    "\n",
    "* **Id** - идентификационный номер квартиры\n",
    "* **DistrictId** - идентификационный номер района\n",
    "* **Rooms** - количество комнат\n",
    "* **Square** - площадь\n",
    "* **LifeSquare** - жилая площадь\n",
    "* **KitchenSquare** - площадь кухни\n",
    "* **Floor** - этаж\n",
    "* **HouseFloor** - количество этажей в доме\n",
    "* **HouseYear** - год постройки дома\n",
    "* **Ecology_1, Ecology_2, Ecology_3** - экологические показатели местности\n",
    "* **Social_1, Social_2, Social_3** - социальные показатели местности\n",
    "* **Healthcare_1, Helthcare_2** - показатели местности, связанные с охраной здоровья\n",
    "* **Shops_1, Shops_2** - показатели, связанные с наличием магазинов, торговых центров\n",
    "* **Price** - цена квартиры"
   ]
  },
  {
   "cell_type": "markdown",
   "metadata": {},
   "source": [
    "**Тренировочный датасет**"
   ]
  },
  {
   "cell_type": "code",
   "execution_count": 5,
   "metadata": {
    "ExecuteTime": {
     "end_time": "2020-07-09T20:46:23.251500Z",
     "start_time": "2020-07-09T20:46:23.192697Z"
    }
   },
   "outputs": [
    {
     "data": {
      "text/html": [
       "<div>\n",
       "<style scoped>\n",
       "    .dataframe tbody tr th:only-of-type {\n",
       "        vertical-align: middle;\n",
       "    }\n",
       "\n",
       "    .dataframe tbody tr th {\n",
       "        vertical-align: top;\n",
       "    }\n",
       "\n",
       "    .dataframe thead th {\n",
       "        text-align: right;\n",
       "    }\n",
       "</style>\n",
       "<table border=\"1\" class=\"dataframe\">\n",
       "  <thead>\n",
       "    <tr style=\"text-align: right;\">\n",
       "      <th></th>\n",
       "      <th>DistrictId</th>\n",
       "      <th>Rooms</th>\n",
       "      <th>Square</th>\n",
       "      <th>LifeSquare</th>\n",
       "      <th>KitchenSquare</th>\n",
       "      <th>Floor</th>\n",
       "      <th>HouseFloor</th>\n",
       "      <th>HouseYear</th>\n",
       "      <th>Ecology_1</th>\n",
       "      <th>Ecology_2</th>\n",
       "      <th>Ecology_3</th>\n",
       "      <th>Social_1</th>\n",
       "      <th>Social_2</th>\n",
       "      <th>Social_3</th>\n",
       "      <th>Healthcare_1</th>\n",
       "      <th>Helthcare_2</th>\n",
       "      <th>Shops_1</th>\n",
       "      <th>Shops_2</th>\n",
       "      <th>Price</th>\n",
       "    </tr>\n",
       "    <tr>\n",
       "      <th>Id</th>\n",
       "      <th></th>\n",
       "      <th></th>\n",
       "      <th></th>\n",
       "      <th></th>\n",
       "      <th></th>\n",
       "      <th></th>\n",
       "      <th></th>\n",
       "      <th></th>\n",
       "      <th></th>\n",
       "      <th></th>\n",
       "      <th></th>\n",
       "      <th></th>\n",
       "      <th></th>\n",
       "      <th></th>\n",
       "      <th></th>\n",
       "      <th></th>\n",
       "      <th></th>\n",
       "      <th></th>\n",
       "      <th></th>\n",
       "    </tr>\n",
       "  </thead>\n",
       "  <tbody>\n",
       "    <tr>\n",
       "      <th>14038</th>\n",
       "      <td>35</td>\n",
       "      <td>2.00000</td>\n",
       "      <td>47.98156</td>\n",
       "      <td>29.44275</td>\n",
       "      <td>6.00000</td>\n",
       "      <td>7</td>\n",
       "      <td>9.00000</td>\n",
       "      <td>1969</td>\n",
       "      <td>0.08904</td>\n",
       "      <td>B</td>\n",
       "      <td>B</td>\n",
       "      <td>33</td>\n",
       "      <td>7976</td>\n",
       "      <td>5</td>\n",
       "      <td>nan</td>\n",
       "      <td>0</td>\n",
       "      <td>11</td>\n",
       "      <td>B</td>\n",
       "      <td>184966.93073</td>\n",
       "    </tr>\n",
       "    <tr>\n",
       "      <th>15053</th>\n",
       "      <td>41</td>\n",
       "      <td>3.00000</td>\n",
       "      <td>65.68364</td>\n",
       "      <td>40.04954</td>\n",
       "      <td>8.00000</td>\n",
       "      <td>7</td>\n",
       "      <td>9.00000</td>\n",
       "      <td>1978</td>\n",
       "      <td>0.00007</td>\n",
       "      <td>B</td>\n",
       "      <td>B</td>\n",
       "      <td>46</td>\n",
       "      <td>10309</td>\n",
       "      <td>1</td>\n",
       "      <td>240.00000</td>\n",
       "      <td>1</td>\n",
       "      <td>16</td>\n",
       "      <td>B</td>\n",
       "      <td>300009.45006</td>\n",
       "    </tr>\n",
       "    <tr>\n",
       "      <th>4765</th>\n",
       "      <td>53</td>\n",
       "      <td>2.00000</td>\n",
       "      <td>44.94795</td>\n",
       "      <td>29.19761</td>\n",
       "      <td>0.00000</td>\n",
       "      <td>8</td>\n",
       "      <td>12.00000</td>\n",
       "      <td>1968</td>\n",
       "      <td>0.04964</td>\n",
       "      <td>B</td>\n",
       "      <td>B</td>\n",
       "      <td>34</td>\n",
       "      <td>7759</td>\n",
       "      <td>0</td>\n",
       "      <td>229.00000</td>\n",
       "      <td>1</td>\n",
       "      <td>3</td>\n",
       "      <td>B</td>\n",
       "      <td>220925.90852</td>\n",
       "    </tr>\n",
       "    <tr>\n",
       "      <th>5809</th>\n",
       "      <td>58</td>\n",
       "      <td>2.00000</td>\n",
       "      <td>53.35298</td>\n",
       "      <td>52.73151</td>\n",
       "      <td>9.00000</td>\n",
       "      <td>8</td>\n",
       "      <td>17.00000</td>\n",
       "      <td>1977</td>\n",
       "      <td>0.43789</td>\n",
       "      <td>B</td>\n",
       "      <td>B</td>\n",
       "      <td>23</td>\n",
       "      <td>5735</td>\n",
       "      <td>3</td>\n",
       "      <td>1084.00000</td>\n",
       "      <td>0</td>\n",
       "      <td>5</td>\n",
       "      <td>B</td>\n",
       "      <td>175616.22722</td>\n",
       "    </tr>\n",
       "    <tr>\n",
       "      <th>10783</th>\n",
       "      <td>99</td>\n",
       "      <td>1.00000</td>\n",
       "      <td>39.64919</td>\n",
       "      <td>23.77617</td>\n",
       "      <td>7.00000</td>\n",
       "      <td>11</td>\n",
       "      <td>12.00000</td>\n",
       "      <td>1976</td>\n",
       "      <td>0.01234</td>\n",
       "      <td>B</td>\n",
       "      <td>B</td>\n",
       "      <td>35</td>\n",
       "      <td>5776</td>\n",
       "      <td>1</td>\n",
       "      <td>2078.00000</td>\n",
       "      <td>2</td>\n",
       "      <td>4</td>\n",
       "      <td>B</td>\n",
       "      <td>150226.53164</td>\n",
       "    </tr>\n",
       "  </tbody>\n",
       "</table>\n",
       "</div>"
      ],
      "text/plain": [
       "       DistrictId   Rooms   Square  LifeSquare  KitchenSquare  Floor  \\\n",
       "Id                                                                     \n",
       "14038          35 2.00000 47.98156    29.44275        6.00000      7   \n",
       "15053          41 3.00000 65.68364    40.04954        8.00000      7   \n",
       "4765           53 2.00000 44.94795    29.19761        0.00000      8   \n",
       "5809           58 2.00000 53.35298    52.73151        9.00000      8   \n",
       "10783          99 1.00000 39.64919    23.77617        7.00000     11   \n",
       "\n",
       "       HouseFloor  HouseYear  Ecology_1 Ecology_2 Ecology_3  Social_1  \\\n",
       "Id                                                                      \n",
       "14038     9.00000       1969    0.08904         B         B        33   \n",
       "15053     9.00000       1978    0.00007         B         B        46   \n",
       "4765     12.00000       1968    0.04964         B         B        34   \n",
       "5809     17.00000       1977    0.43789         B         B        23   \n",
       "10783    12.00000       1976    0.01234         B         B        35   \n",
       "\n",
       "       Social_2  Social_3  Healthcare_1  Helthcare_2  Shops_1 Shops_2  \\\n",
       "Id                                                                      \n",
       "14038      7976         5           nan            0       11       B   \n",
       "15053     10309         1     240.00000            1       16       B   \n",
       "4765       7759         0     229.00000            1        3       B   \n",
       "5809       5735         3    1084.00000            0        5       B   \n",
       "10783      5776         1    2078.00000            2        4       B   \n",
       "\n",
       "             Price  \n",
       "Id                  \n",
       "14038 184966.93073  \n",
       "15053 300009.45006  \n",
       "4765  220925.90852  \n",
       "5809  175616.22722  \n",
       "10783 150226.53164  "
      ]
     },
     "execution_count": 5,
     "metadata": {},
     "output_type": "execute_result"
    }
   ],
   "source": [
    "train_df = pd.read_csv(TRAIN_DATASET_PATH).set_index('Id')\n",
    "train_df.head()"
   ]
  },
  {
   "cell_type": "code",
   "execution_count": 6,
   "metadata": {
    "ExecuteTime": {
     "end_time": "2020-07-09T20:46:23.330900Z",
     "start_time": "2020-07-09T20:46:23.254351Z"
    }
   },
   "outputs": [
    {
     "name": "stdout",
     "output_type": "stream",
     "text": [
      "<class 'pandas.core.frame.DataFrame'>\n",
      "Int64Index: 10000 entries, 14038 to 6306\n",
      "Data columns (total 19 columns):\n",
      " #   Column         Non-Null Count  Dtype  \n",
      "---  ------         --------------  -----  \n",
      " 0   DistrictId     10000 non-null  int64  \n",
      " 1   Rooms          10000 non-null  float64\n",
      " 2   Square         10000 non-null  float64\n",
      " 3   LifeSquare     7887 non-null   float64\n",
      " 4   KitchenSquare  10000 non-null  float64\n",
      " 5   Floor          10000 non-null  int64  \n",
      " 6   HouseFloor     10000 non-null  float64\n",
      " 7   HouseYear      10000 non-null  int64  \n",
      " 8   Ecology_1      10000 non-null  float64\n",
      " 9   Ecology_2      10000 non-null  object \n",
      " 10  Ecology_3      10000 non-null  object \n",
      " 11  Social_1       10000 non-null  int64  \n",
      " 12  Social_2       10000 non-null  int64  \n",
      " 13  Social_3       10000 non-null  int64  \n",
      " 14  Healthcare_1   5202 non-null   float64\n",
      " 15  Helthcare_2    10000 non-null  int64  \n",
      " 16  Shops_1        10000 non-null  int64  \n",
      " 17  Shops_2        10000 non-null  object \n",
      " 18  Price          10000 non-null  float64\n",
      "dtypes: float64(8), int64(8), object(3)\n",
      "memory usage: 1.5+ MB\n",
      "None\n",
      "(10000, 19)\n"
     ]
    },
    {
     "data": {
      "text/html": [
       "<div>\n",
       "<style scoped>\n",
       "    .dataframe tbody tr th:only-of-type {\n",
       "        vertical-align: middle;\n",
       "    }\n",
       "\n",
       "    .dataframe tbody tr th {\n",
       "        vertical-align: top;\n",
       "    }\n",
       "\n",
       "    .dataframe thead th {\n",
       "        text-align: right;\n",
       "    }\n",
       "</style>\n",
       "<table border=\"1\" class=\"dataframe\">\n",
       "  <thead>\n",
       "    <tr style=\"text-align: right;\">\n",
       "      <th></th>\n",
       "      <th>count</th>\n",
       "      <th>mean</th>\n",
       "      <th>std</th>\n",
       "      <th>min</th>\n",
       "      <th>25%</th>\n",
       "      <th>50%</th>\n",
       "      <th>75%</th>\n",
       "      <th>max</th>\n",
       "    </tr>\n",
       "  </thead>\n",
       "  <tbody>\n",
       "    <tr>\n",
       "      <th>DistrictId</th>\n",
       "      <td>10000.00000</td>\n",
       "      <td>50.40080</td>\n",
       "      <td>43.58759</td>\n",
       "      <td>0.00000</td>\n",
       "      <td>20.00000</td>\n",
       "      <td>36.00000</td>\n",
       "      <td>75.00000</td>\n",
       "      <td>209.00000</td>\n",
       "    </tr>\n",
       "    <tr>\n",
       "      <th>Rooms</th>\n",
       "      <td>10000.00000</td>\n",
       "      <td>1.89050</td>\n",
       "      <td>0.83951</td>\n",
       "      <td>0.00000</td>\n",
       "      <td>1.00000</td>\n",
       "      <td>2.00000</td>\n",
       "      <td>2.00000</td>\n",
       "      <td>19.00000</td>\n",
       "    </tr>\n",
       "    <tr>\n",
       "      <th>Square</th>\n",
       "      <td>10000.00000</td>\n",
       "      <td>56.31578</td>\n",
       "      <td>21.05873</td>\n",
       "      <td>1.13686</td>\n",
       "      <td>41.77488</td>\n",
       "      <td>52.51331</td>\n",
       "      <td>65.90063</td>\n",
       "      <td>641.06519</td>\n",
       "    </tr>\n",
       "    <tr>\n",
       "      <th>LifeSquare</th>\n",
       "      <td>7887.00000</td>\n",
       "      <td>37.19964</td>\n",
       "      <td>86.24121</td>\n",
       "      <td>0.37062</td>\n",
       "      <td>22.76983</td>\n",
       "      <td>32.78126</td>\n",
       "      <td>45.12880</td>\n",
       "      <td>7480.59213</td>\n",
       "    </tr>\n",
       "    <tr>\n",
       "      <th>KitchenSquare</th>\n",
       "      <td>10000.00000</td>\n",
       "      <td>6.27330</td>\n",
       "      <td>28.56092</td>\n",
       "      <td>0.00000</td>\n",
       "      <td>1.00000</td>\n",
       "      <td>6.00000</td>\n",
       "      <td>9.00000</td>\n",
       "      <td>2014.00000</td>\n",
       "    </tr>\n",
       "    <tr>\n",
       "      <th>Floor</th>\n",
       "      <td>10000.00000</td>\n",
       "      <td>8.52670</td>\n",
       "      <td>5.24115</td>\n",
       "      <td>1.00000</td>\n",
       "      <td>4.00000</td>\n",
       "      <td>7.00000</td>\n",
       "      <td>12.00000</td>\n",
       "      <td>42.00000</td>\n",
       "    </tr>\n",
       "    <tr>\n",
       "      <th>HouseFloor</th>\n",
       "      <td>10000.00000</td>\n",
       "      <td>12.60940</td>\n",
       "      <td>6.77597</td>\n",
       "      <td>0.00000</td>\n",
       "      <td>9.00000</td>\n",
       "      <td>13.00000</td>\n",
       "      <td>17.00000</td>\n",
       "      <td>117.00000</td>\n",
       "    </tr>\n",
       "    <tr>\n",
       "      <th>HouseYear</th>\n",
       "      <td>10000.00000</td>\n",
       "      <td>3990.16630</td>\n",
       "      <td>200500.26143</td>\n",
       "      <td>1910.00000</td>\n",
       "      <td>1974.00000</td>\n",
       "      <td>1977.00000</td>\n",
       "      <td>2001.00000</td>\n",
       "      <td>20052011.00000</td>\n",
       "    </tr>\n",
       "    <tr>\n",
       "      <th>Ecology_1</th>\n",
       "      <td>10000.00000</td>\n",
       "      <td>0.11886</td>\n",
       "      <td>0.11903</td>\n",
       "      <td>0.00000</td>\n",
       "      <td>0.01765</td>\n",
       "      <td>0.07542</td>\n",
       "      <td>0.19578</td>\n",
       "      <td>0.52187</td>\n",
       "    </tr>\n",
       "    <tr>\n",
       "      <th>Social_1</th>\n",
       "      <td>10000.00000</td>\n",
       "      <td>24.68700</td>\n",
       "      <td>17.53261</td>\n",
       "      <td>0.00000</td>\n",
       "      <td>6.00000</td>\n",
       "      <td>25.00000</td>\n",
       "      <td>36.00000</td>\n",
       "      <td>74.00000</td>\n",
       "    </tr>\n",
       "    <tr>\n",
       "      <th>Social_2</th>\n",
       "      <td>10000.00000</td>\n",
       "      <td>5352.15740</td>\n",
       "      <td>4006.79980</td>\n",
       "      <td>168.00000</td>\n",
       "      <td>1564.00000</td>\n",
       "      <td>5285.00000</td>\n",
       "      <td>7227.00000</td>\n",
       "      <td>19083.00000</td>\n",
       "    </tr>\n",
       "    <tr>\n",
       "      <th>Social_3</th>\n",
       "      <td>10000.00000</td>\n",
       "      <td>8.03920</td>\n",
       "      <td>23.83187</td>\n",
       "      <td>0.00000</td>\n",
       "      <td>0.00000</td>\n",
       "      <td>2.00000</td>\n",
       "      <td>5.00000</td>\n",
       "      <td>141.00000</td>\n",
       "    </tr>\n",
       "    <tr>\n",
       "      <th>Healthcare_1</th>\n",
       "      <td>5202.00000</td>\n",
       "      <td>1142.90446</td>\n",
       "      <td>1021.51726</td>\n",
       "      <td>0.00000</td>\n",
       "      <td>350.00000</td>\n",
       "      <td>900.00000</td>\n",
       "      <td>1548.00000</td>\n",
       "      <td>4849.00000</td>\n",
       "    </tr>\n",
       "    <tr>\n",
       "      <th>Helthcare_2</th>\n",
       "      <td>10000.00000</td>\n",
       "      <td>1.31950</td>\n",
       "      <td>1.49360</td>\n",
       "      <td>0.00000</td>\n",
       "      <td>0.00000</td>\n",
       "      <td>1.00000</td>\n",
       "      <td>2.00000</td>\n",
       "      <td>6.00000</td>\n",
       "    </tr>\n",
       "    <tr>\n",
       "      <th>Shops_1</th>\n",
       "      <td>10000.00000</td>\n",
       "      <td>4.23130</td>\n",
       "      <td>4.80634</td>\n",
       "      <td>0.00000</td>\n",
       "      <td>1.00000</td>\n",
       "      <td>3.00000</td>\n",
       "      <td>6.00000</td>\n",
       "      <td>23.00000</td>\n",
       "    </tr>\n",
       "    <tr>\n",
       "      <th>Price</th>\n",
       "      <td>10000.00000</td>\n",
       "      <td>214138.85740</td>\n",
       "      <td>92872.29387</td>\n",
       "      <td>59174.77803</td>\n",
       "      <td>153872.63394</td>\n",
       "      <td>192269.64488</td>\n",
       "      <td>249135.46217</td>\n",
       "      <td>633233.46657</td>\n",
       "    </tr>\n",
       "  </tbody>\n",
       "</table>\n",
       "</div>"
      ],
      "text/plain": [
       "                    count         mean          std         min          25%  \\\n",
       "DistrictId    10000.00000     50.40080     43.58759     0.00000     20.00000   \n",
       "Rooms         10000.00000      1.89050      0.83951     0.00000      1.00000   \n",
       "Square        10000.00000     56.31578     21.05873     1.13686     41.77488   \n",
       "LifeSquare     7887.00000     37.19964     86.24121     0.37062     22.76983   \n",
       "KitchenSquare 10000.00000      6.27330     28.56092     0.00000      1.00000   \n",
       "Floor         10000.00000      8.52670      5.24115     1.00000      4.00000   \n",
       "HouseFloor    10000.00000     12.60940      6.77597     0.00000      9.00000   \n",
       "HouseYear     10000.00000   3990.16630 200500.26143  1910.00000   1974.00000   \n",
       "Ecology_1     10000.00000      0.11886      0.11903     0.00000      0.01765   \n",
       "Social_1      10000.00000     24.68700     17.53261     0.00000      6.00000   \n",
       "Social_2      10000.00000   5352.15740   4006.79980   168.00000   1564.00000   \n",
       "Social_3      10000.00000      8.03920     23.83187     0.00000      0.00000   \n",
       "Healthcare_1   5202.00000   1142.90446   1021.51726     0.00000    350.00000   \n",
       "Helthcare_2   10000.00000      1.31950      1.49360     0.00000      0.00000   \n",
       "Shops_1       10000.00000      4.23130      4.80634     0.00000      1.00000   \n",
       "Price         10000.00000 214138.85740  92872.29387 59174.77803 153872.63394   \n",
       "\n",
       "                       50%          75%            max  \n",
       "DistrictId        36.00000     75.00000      209.00000  \n",
       "Rooms              2.00000      2.00000       19.00000  \n",
       "Square            52.51331     65.90063      641.06519  \n",
       "LifeSquare        32.78126     45.12880     7480.59213  \n",
       "KitchenSquare      6.00000      9.00000     2014.00000  \n",
       "Floor              7.00000     12.00000       42.00000  \n",
       "HouseFloor        13.00000     17.00000      117.00000  \n",
       "HouseYear       1977.00000   2001.00000 20052011.00000  \n",
       "Ecology_1          0.07542      0.19578        0.52187  \n",
       "Social_1          25.00000     36.00000       74.00000  \n",
       "Social_2        5285.00000   7227.00000    19083.00000  \n",
       "Social_3           2.00000      5.00000      141.00000  \n",
       "Healthcare_1     900.00000   1548.00000     4849.00000  \n",
       "Helthcare_2        1.00000      2.00000        6.00000  \n",
       "Shops_1            3.00000      6.00000       23.00000  \n",
       "Price         192269.64488 249135.46217   633233.46657  "
      ]
     },
     "execution_count": 6,
     "metadata": {},
     "output_type": "execute_result"
    }
   ],
   "source": [
    "print(train_df.info())\n",
    "print(train_df.shape)\n",
    "train_df.describe().T"
   ]
  },
  {
   "cell_type": "markdown",
   "metadata": {},
   "source": [
    "**Тестовый датасет**"
   ]
  },
  {
   "cell_type": "code",
   "execution_count": 7,
   "metadata": {
    "ExecuteTime": {
     "end_time": "2020-07-09T20:46:23.372587Z",
     "start_time": "2020-07-09T20:46:23.334716Z"
    },
    "scrolled": false
   },
   "outputs": [
    {
     "data": {
      "text/html": [
       "<div>\n",
       "<style scoped>\n",
       "    .dataframe tbody tr th:only-of-type {\n",
       "        vertical-align: middle;\n",
       "    }\n",
       "\n",
       "    .dataframe tbody tr th {\n",
       "        vertical-align: top;\n",
       "    }\n",
       "\n",
       "    .dataframe thead th {\n",
       "        text-align: right;\n",
       "    }\n",
       "</style>\n",
       "<table border=\"1\" class=\"dataframe\">\n",
       "  <thead>\n",
       "    <tr style=\"text-align: right;\">\n",
       "      <th></th>\n",
       "      <th>Id</th>\n",
       "      <th>DistrictId</th>\n",
       "      <th>Rooms</th>\n",
       "      <th>Square</th>\n",
       "      <th>LifeSquare</th>\n",
       "      <th>KitchenSquare</th>\n",
       "      <th>Floor</th>\n",
       "      <th>HouseFloor</th>\n",
       "      <th>HouseYear</th>\n",
       "      <th>Ecology_1</th>\n",
       "      <th>Ecology_2</th>\n",
       "      <th>Ecology_3</th>\n",
       "      <th>Social_1</th>\n",
       "      <th>Social_2</th>\n",
       "      <th>Social_3</th>\n",
       "      <th>Healthcare_1</th>\n",
       "      <th>Helthcare_2</th>\n",
       "      <th>Shops_1</th>\n",
       "      <th>Shops_2</th>\n",
       "    </tr>\n",
       "  </thead>\n",
       "  <tbody>\n",
       "    <tr>\n",
       "      <th>4995</th>\n",
       "      <td>8180</td>\n",
       "      <td>11</td>\n",
       "      <td>3.00000</td>\n",
       "      <td>67.13391</td>\n",
       "      <td>50.80980</td>\n",
       "      <td>6.00000</td>\n",
       "      <td>5</td>\n",
       "      <td>9.00000</td>\n",
       "      <td>1973</td>\n",
       "      <td>0.00017</td>\n",
       "      <td>B</td>\n",
       "      <td>B</td>\n",
       "      <td>36</td>\n",
       "      <td>5992</td>\n",
       "      <td>0</td>\n",
       "      <td>nan</td>\n",
       "      <td>1</td>\n",
       "      <td>1</td>\n",
       "      <td>B</td>\n",
       "    </tr>\n",
       "    <tr>\n",
       "      <th>4996</th>\n",
       "      <td>4695</td>\n",
       "      <td>1</td>\n",
       "      <td>1.00000</td>\n",
       "      <td>40.19847</td>\n",
       "      <td>21.80706</td>\n",
       "      <td>10.00000</td>\n",
       "      <td>12</td>\n",
       "      <td>17.00000</td>\n",
       "      <td>2017</td>\n",
       "      <td>0.00712</td>\n",
       "      <td>B</td>\n",
       "      <td>B</td>\n",
       "      <td>1</td>\n",
       "      <td>264</td>\n",
       "      <td>0</td>\n",
       "      <td>nan</td>\n",
       "      <td>0</td>\n",
       "      <td>1</td>\n",
       "      <td>B</td>\n",
       "    </tr>\n",
       "    <tr>\n",
       "      <th>4997</th>\n",
       "      <td>5783</td>\n",
       "      <td>12</td>\n",
       "      <td>3.00000</td>\n",
       "      <td>77.84218</td>\n",
       "      <td>48.28263</td>\n",
       "      <td>9.00000</td>\n",
       "      <td>23</td>\n",
       "      <td>22.00000</td>\n",
       "      <td>1989</td>\n",
       "      <td>0.09080</td>\n",
       "      <td>B</td>\n",
       "      <td>B</td>\n",
       "      <td>74</td>\n",
       "      <td>19083</td>\n",
       "      <td>2</td>\n",
       "      <td>nan</td>\n",
       "      <td>5</td>\n",
       "      <td>15</td>\n",
       "      <td>B</td>\n",
       "    </tr>\n",
       "    <tr>\n",
       "      <th>4998</th>\n",
       "      <td>4780</td>\n",
       "      <td>62</td>\n",
       "      <td>2.00000</td>\n",
       "      <td>81.30522</td>\n",
       "      <td>nan</td>\n",
       "      <td>0.00000</td>\n",
       "      <td>4</td>\n",
       "      <td>0.00000</td>\n",
       "      <td>1977</td>\n",
       "      <td>0.07216</td>\n",
       "      <td>B</td>\n",
       "      <td>B</td>\n",
       "      <td>2</td>\n",
       "      <td>629</td>\n",
       "      <td>1</td>\n",
       "      <td>nan</td>\n",
       "      <td>0</td>\n",
       "      <td>0</td>\n",
       "      <td>A</td>\n",
       "    </tr>\n",
       "    <tr>\n",
       "      <th>4999</th>\n",
       "      <td>12504</td>\n",
       "      <td>30</td>\n",
       "      <td>2.00000</td>\n",
       "      <td>60.55569</td>\n",
       "      <td>nan</td>\n",
       "      <td>1.00000</td>\n",
       "      <td>10</td>\n",
       "      <td>17.00000</td>\n",
       "      <td>1977</td>\n",
       "      <td>0.00008</td>\n",
       "      <td>B</td>\n",
       "      <td>B</td>\n",
       "      <td>22</td>\n",
       "      <td>6398</td>\n",
       "      <td>141</td>\n",
       "      <td>1046.00000</td>\n",
       "      <td>3</td>\n",
       "      <td>23</td>\n",
       "      <td>B</td>\n",
       "    </tr>\n",
       "  </tbody>\n",
       "</table>\n",
       "</div>"
      ],
      "text/plain": [
       "         Id  DistrictId   Rooms   Square  LifeSquare  KitchenSquare  Floor  \\\n",
       "4995   8180          11 3.00000 67.13391    50.80980        6.00000      5   \n",
       "4996   4695           1 1.00000 40.19847    21.80706       10.00000     12   \n",
       "4997   5783          12 3.00000 77.84218    48.28263        9.00000     23   \n",
       "4998   4780          62 2.00000 81.30522         nan        0.00000      4   \n",
       "4999  12504          30 2.00000 60.55569         nan        1.00000     10   \n",
       "\n",
       "      HouseFloor  HouseYear  Ecology_1 Ecology_2 Ecology_3  Social_1  \\\n",
       "4995     9.00000       1973    0.00017         B         B        36   \n",
       "4996    17.00000       2017    0.00712         B         B         1   \n",
       "4997    22.00000       1989    0.09080         B         B        74   \n",
       "4998     0.00000       1977    0.07216         B         B         2   \n",
       "4999    17.00000       1977    0.00008         B         B        22   \n",
       "\n",
       "      Social_2  Social_3  Healthcare_1  Helthcare_2  Shops_1 Shops_2  \n",
       "4995      5992         0           nan            1        1       B  \n",
       "4996       264         0           nan            0        1       B  \n",
       "4997     19083         2           nan            5       15       B  \n",
       "4998       629         1           nan            0        0       A  \n",
       "4999      6398       141    1046.00000            3       23       B  "
      ]
     },
     "execution_count": 7,
     "metadata": {},
     "output_type": "execute_result"
    }
   ],
   "source": [
    "test_df = pd.read_csv(TEST_DATASET_PATH)\n",
    "test_df.tail()"
   ]
  },
  {
   "cell_type": "code",
   "execution_count": 8,
   "metadata": {
    "ExecuteTime": {
     "end_time": "2020-07-09T20:46:23.457559Z",
     "start_time": "2020-07-09T20:46:23.378843Z"
    },
    "scrolled": false
   },
   "outputs": [
    {
     "name": "stdout",
     "output_type": "stream",
     "text": [
      "<class 'pandas.core.frame.DataFrame'>\n",
      "RangeIndex: 5000 entries, 0 to 4999\n",
      "Data columns (total 19 columns):\n",
      " #   Column         Non-Null Count  Dtype  \n",
      "---  ------         --------------  -----  \n",
      " 0   Id             5000 non-null   int64  \n",
      " 1   DistrictId     5000 non-null   int64  \n",
      " 2   Rooms          5000 non-null   float64\n",
      " 3   Square         5000 non-null   float64\n",
      " 4   LifeSquare     3959 non-null   float64\n",
      " 5   KitchenSquare  5000 non-null   float64\n",
      " 6   Floor          5000 non-null   int64  \n",
      " 7   HouseFloor     5000 non-null   float64\n",
      " 8   HouseYear      5000 non-null   int64  \n",
      " 9   Ecology_1      5000 non-null   float64\n",
      " 10  Ecology_2      5000 non-null   object \n",
      " 11  Ecology_3      5000 non-null   object \n",
      " 12  Social_1       5000 non-null   int64  \n",
      " 13  Social_2       5000 non-null   int64  \n",
      " 14  Social_3       5000 non-null   int64  \n",
      " 15  Healthcare_1   2623 non-null   float64\n",
      " 16  Helthcare_2    5000 non-null   int64  \n",
      " 17  Shops_1        5000 non-null   int64  \n",
      " 18  Shops_2        5000 non-null   object \n",
      "dtypes: float64(7), int64(9), object(3)\n",
      "memory usage: 742.3+ KB\n",
      "None\n",
      "(5000, 19)\n"
     ]
    },
    {
     "data": {
      "text/html": [
       "<div>\n",
       "<style scoped>\n",
       "    .dataframe tbody tr th:only-of-type {\n",
       "        vertical-align: middle;\n",
       "    }\n",
       "\n",
       "    .dataframe tbody tr th {\n",
       "        vertical-align: top;\n",
       "    }\n",
       "\n",
       "    .dataframe thead th {\n",
       "        text-align: right;\n",
       "    }\n",
       "</style>\n",
       "<table border=\"1\" class=\"dataframe\">\n",
       "  <thead>\n",
       "    <tr style=\"text-align: right;\">\n",
       "      <th></th>\n",
       "      <th>count</th>\n",
       "      <th>mean</th>\n",
       "      <th>std</th>\n",
       "      <th>min</th>\n",
       "      <th>25%</th>\n",
       "      <th>50%</th>\n",
       "      <th>75%</th>\n",
       "      <th>max</th>\n",
       "    </tr>\n",
       "  </thead>\n",
       "  <tbody>\n",
       "    <tr>\n",
       "      <th>Id</th>\n",
       "      <td>5000.00000</td>\n",
       "      <td>8412.59540</td>\n",
       "      <td>4832.67404</td>\n",
       "      <td>1.00000</td>\n",
       "      <td>4221.75000</td>\n",
       "      <td>8320.50000</td>\n",
       "      <td>12598.25000</td>\n",
       "      <td>16795.00000</td>\n",
       "    </tr>\n",
       "    <tr>\n",
       "      <th>DistrictId</th>\n",
       "      <td>5000.00000</td>\n",
       "      <td>51.27920</td>\n",
       "      <td>44.17947</td>\n",
       "      <td>0.00000</td>\n",
       "      <td>21.00000</td>\n",
       "      <td>37.00000</td>\n",
       "      <td>77.00000</td>\n",
       "      <td>212.00000</td>\n",
       "    </tr>\n",
       "    <tr>\n",
       "      <th>Rooms</th>\n",
       "      <td>5000.00000</td>\n",
       "      <td>1.91000</td>\n",
       "      <td>0.83859</td>\n",
       "      <td>0.00000</td>\n",
       "      <td>1.00000</td>\n",
       "      <td>2.00000</td>\n",
       "      <td>2.00000</td>\n",
       "      <td>17.00000</td>\n",
       "    </tr>\n",
       "    <tr>\n",
       "      <th>Square</th>\n",
       "      <td>5000.00000</td>\n",
       "      <td>56.44950</td>\n",
       "      <td>19.09279</td>\n",
       "      <td>1.37854</td>\n",
       "      <td>41.90623</td>\n",
       "      <td>52.92134</td>\n",
       "      <td>66.28513</td>\n",
       "      <td>223.45369</td>\n",
       "    </tr>\n",
       "    <tr>\n",
       "      <th>LifeSquare</th>\n",
       "      <td>3959.00000</td>\n",
       "      <td>36.15881</td>\n",
       "      <td>17.82529</td>\n",
       "      <td>0.33349</td>\n",
       "      <td>23.09203</td>\n",
       "      <td>32.92509</td>\n",
       "      <td>45.17409</td>\n",
       "      <td>303.07109</td>\n",
       "    </tr>\n",
       "    <tr>\n",
       "      <th>KitchenSquare</th>\n",
       "      <td>5000.00000</td>\n",
       "      <td>5.97680</td>\n",
       "      <td>9.95002</td>\n",
       "      <td>0.00000</td>\n",
       "      <td>1.00000</td>\n",
       "      <td>6.00000</td>\n",
       "      <td>9.00000</td>\n",
       "      <td>620.00000</td>\n",
       "    </tr>\n",
       "    <tr>\n",
       "      <th>Floor</th>\n",
       "      <td>5000.00000</td>\n",
       "      <td>8.63200</td>\n",
       "      <td>5.48323</td>\n",
       "      <td>1.00000</td>\n",
       "      <td>4.00000</td>\n",
       "      <td>7.00000</td>\n",
       "      <td>12.00000</td>\n",
       "      <td>78.00000</td>\n",
       "    </tr>\n",
       "    <tr>\n",
       "      <th>HouseFloor</th>\n",
       "      <td>5000.00000</td>\n",
       "      <td>12.60100</td>\n",
       "      <td>6.78921</td>\n",
       "      <td>0.00000</td>\n",
       "      <td>9.00000</td>\n",
       "      <td>12.00000</td>\n",
       "      <td>17.00000</td>\n",
       "      <td>99.00000</td>\n",
       "    </tr>\n",
       "    <tr>\n",
       "      <th>HouseYear</th>\n",
       "      <td>5000.00000</td>\n",
       "      <td>1984.39260</td>\n",
       "      <td>18.57315</td>\n",
       "      <td>1908.00000</td>\n",
       "      <td>1973.00000</td>\n",
       "      <td>1977.00000</td>\n",
       "      <td>2000.00000</td>\n",
       "      <td>2020.00000</td>\n",
       "    </tr>\n",
       "    <tr>\n",
       "      <th>Ecology_1</th>\n",
       "      <td>5000.00000</td>\n",
       "      <td>0.11987</td>\n",
       "      <td>0.12007</td>\n",
       "      <td>0.00000</td>\n",
       "      <td>0.01951</td>\n",
       "      <td>0.07216</td>\n",
       "      <td>0.19578</td>\n",
       "      <td>0.52187</td>\n",
       "    </tr>\n",
       "    <tr>\n",
       "      <th>Social_1</th>\n",
       "      <td>5000.00000</td>\n",
       "      <td>24.93380</td>\n",
       "      <td>17.53220</td>\n",
       "      <td>0.00000</td>\n",
       "      <td>6.00000</td>\n",
       "      <td>25.00000</td>\n",
       "      <td>36.00000</td>\n",
       "      <td>74.00000</td>\n",
       "    </tr>\n",
       "    <tr>\n",
       "      <th>Social_2</th>\n",
       "      <td>5000.00000</td>\n",
       "      <td>5406.90000</td>\n",
       "      <td>4026.61477</td>\n",
       "      <td>168.00000</td>\n",
       "      <td>1564.00000</td>\n",
       "      <td>5285.00000</td>\n",
       "      <td>7287.00000</td>\n",
       "      <td>19083.00000</td>\n",
       "    </tr>\n",
       "    <tr>\n",
       "      <th>Social_3</th>\n",
       "      <td>5000.00000</td>\n",
       "      <td>8.26260</td>\n",
       "      <td>23.86376</td>\n",
       "      <td>0.00000</td>\n",
       "      <td>0.00000</td>\n",
       "      <td>2.00000</td>\n",
       "      <td>5.00000</td>\n",
       "      <td>141.00000</td>\n",
       "    </tr>\n",
       "    <tr>\n",
       "      <th>Healthcare_1</th>\n",
       "      <td>2623.00000</td>\n",
       "      <td>1146.65726</td>\n",
       "      <td>1044.74423</td>\n",
       "      <td>0.00000</td>\n",
       "      <td>325.00000</td>\n",
       "      <td>900.00000</td>\n",
       "      <td>1548.00000</td>\n",
       "      <td>4849.00000</td>\n",
       "    </tr>\n",
       "    <tr>\n",
       "      <th>Helthcare_2</th>\n",
       "      <td>5000.00000</td>\n",
       "      <td>1.31940</td>\n",
       "      <td>1.47994</td>\n",
       "      <td>0.00000</td>\n",
       "      <td>0.00000</td>\n",
       "      <td>1.00000</td>\n",
       "      <td>2.00000</td>\n",
       "      <td>6.00000</td>\n",
       "    </tr>\n",
       "    <tr>\n",
       "      <th>Shops_1</th>\n",
       "      <td>5000.00000</td>\n",
       "      <td>4.24280</td>\n",
       "      <td>4.77736</td>\n",
       "      <td>0.00000</td>\n",
       "      <td>1.00000</td>\n",
       "      <td>3.00000</td>\n",
       "      <td>6.00000</td>\n",
       "      <td>23.00000</td>\n",
       "    </tr>\n",
       "  </tbody>\n",
       "</table>\n",
       "</div>"
      ],
      "text/plain": [
       "                   count       mean        std        min        25%  \\\n",
       "Id            5000.00000 8412.59540 4832.67404    1.00000 4221.75000   \n",
       "DistrictId    5000.00000   51.27920   44.17947    0.00000   21.00000   \n",
       "Rooms         5000.00000    1.91000    0.83859    0.00000    1.00000   \n",
       "Square        5000.00000   56.44950   19.09279    1.37854   41.90623   \n",
       "LifeSquare    3959.00000   36.15881   17.82529    0.33349   23.09203   \n",
       "KitchenSquare 5000.00000    5.97680    9.95002    0.00000    1.00000   \n",
       "Floor         5000.00000    8.63200    5.48323    1.00000    4.00000   \n",
       "HouseFloor    5000.00000   12.60100    6.78921    0.00000    9.00000   \n",
       "HouseYear     5000.00000 1984.39260   18.57315 1908.00000 1973.00000   \n",
       "Ecology_1     5000.00000    0.11987    0.12007    0.00000    0.01951   \n",
       "Social_1      5000.00000   24.93380   17.53220    0.00000    6.00000   \n",
       "Social_2      5000.00000 5406.90000 4026.61477  168.00000 1564.00000   \n",
       "Social_3      5000.00000    8.26260   23.86376    0.00000    0.00000   \n",
       "Healthcare_1  2623.00000 1146.65726 1044.74423    0.00000  325.00000   \n",
       "Helthcare_2   5000.00000    1.31940    1.47994    0.00000    0.00000   \n",
       "Shops_1       5000.00000    4.24280    4.77736    0.00000    1.00000   \n",
       "\n",
       "                     50%         75%         max  \n",
       "Id            8320.50000 12598.25000 16795.00000  \n",
       "DistrictId      37.00000    77.00000   212.00000  \n",
       "Rooms            2.00000     2.00000    17.00000  \n",
       "Square          52.92134    66.28513   223.45369  \n",
       "LifeSquare      32.92509    45.17409   303.07109  \n",
       "KitchenSquare    6.00000     9.00000   620.00000  \n",
       "Floor            7.00000    12.00000    78.00000  \n",
       "HouseFloor      12.00000    17.00000    99.00000  \n",
       "HouseYear     1977.00000  2000.00000  2020.00000  \n",
       "Ecology_1        0.07216     0.19578     0.52187  \n",
       "Social_1        25.00000    36.00000    74.00000  \n",
       "Social_2      5285.00000  7287.00000 19083.00000  \n",
       "Social_3         2.00000     5.00000   141.00000  \n",
       "Healthcare_1   900.00000  1548.00000  4849.00000  \n",
       "Helthcare_2      1.00000     2.00000     6.00000  \n",
       "Shops_1          3.00000     6.00000    23.00000  "
      ]
     },
     "execution_count": 8,
     "metadata": {},
     "output_type": "execute_result"
    }
   ],
   "source": [
    "print(test_df.info())\n",
    "print(test_df.shape)\n",
    "test_df.describe().T"
   ]
  },
  {
   "cell_type": "markdown",
   "metadata": {},
   "source": [
    "### Приведение типов"
   ]
  },
  {
   "cell_type": "code",
   "execution_count": 9,
   "metadata": {
    "ExecuteTime": {
     "end_time": "2020-07-09T20:46:23.484557Z",
     "start_time": "2020-07-09T20:46:23.463145Z"
    }
   },
   "outputs": [],
   "source": [
    "train_df['DistrictId'] = train_df['DistrictId'].astype(str)\n",
    "test_df['DistrictId'] = test_df['DistrictId'].astype(str)"
   ]
  },
  {
   "cell_type": "markdown",
   "metadata": {},
   "source": [
    "### Обзор данных"
   ]
  },
  {
   "cell_type": "code",
   "execution_count": 10,
   "metadata": {
    "ExecuteTime": {
     "end_time": "2020-07-09T20:46:23.511678Z",
     "start_time": "2020-07-09T20:46:23.488009Z"
    },
    "scrolled": false
   },
   "outputs": [
    {
     "name": "stdout",
     "output_type": "stream",
     "text": [
      "<class 'pandas.core.frame.DataFrame'>\n",
      "Int64Index: 10000 entries, 14038 to 6306\n",
      "Data columns (total 19 columns):\n",
      " #   Column         Non-Null Count  Dtype  \n",
      "---  ------         --------------  -----  \n",
      " 0   DistrictId     10000 non-null  object \n",
      " 1   Rooms          10000 non-null  float64\n",
      " 2   Square         10000 non-null  float64\n",
      " 3   LifeSquare     7887 non-null   float64\n",
      " 4   KitchenSquare  10000 non-null  float64\n",
      " 5   Floor          10000 non-null  int64  \n",
      " 6   HouseFloor     10000 non-null  float64\n",
      " 7   HouseYear      10000 non-null  int64  \n",
      " 8   Ecology_1      10000 non-null  float64\n",
      " 9   Ecology_2      10000 non-null  object \n",
      " 10  Ecology_3      10000 non-null  object \n",
      " 11  Social_1       10000 non-null  int64  \n",
      " 12  Social_2       10000 non-null  int64  \n",
      " 13  Social_3       10000 non-null  int64  \n",
      " 14  Healthcare_1   5202 non-null   float64\n",
      " 15  Helthcare_2    10000 non-null  int64  \n",
      " 16  Shops_1        10000 non-null  int64  \n",
      " 17  Shops_2        10000 non-null  object \n",
      " 18  Price          10000 non-null  float64\n",
      "dtypes: float64(8), int64(7), object(4)\n",
      "memory usage: 1.5+ MB\n"
     ]
    }
   ],
   "source": [
    "# Посмотрим информацию по датафрейму\n",
    "train_df.info()"
   ]
  },
  {
   "cell_type": "code",
   "execution_count": 11,
   "metadata": {
    "ExecuteTime": {
     "end_time": "2020-07-09T20:46:23.527808Z",
     "start_time": "2020-07-09T20:46:23.514901Z"
    }
   },
   "outputs": [],
   "source": [
    "# Видим пропуски в двух фичах. 'Healthcare_1' удалим, т.к. пропусков 48%,\n",
    "train_df = train_df.drop('Healthcare_1', axis = 1)\n",
    "test_df = test_df.drop('Healthcare_1', axis = 1)"
   ]
  },
  {
   "cell_type": "code",
   "execution_count": 12,
   "metadata": {
    "ExecuteTime": {
     "end_time": "2020-07-09T20:46:23.591306Z",
     "start_time": "2020-07-09T20:46:23.530961Z"
    }
   },
   "outputs": [
    {
     "data": {
      "text/html": [
       "<div>\n",
       "<style scoped>\n",
       "    .dataframe tbody tr th:only-of-type {\n",
       "        vertical-align: middle;\n",
       "    }\n",
       "\n",
       "    .dataframe tbody tr th {\n",
       "        vertical-align: top;\n",
       "    }\n",
       "\n",
       "    .dataframe thead th {\n",
       "        text-align: right;\n",
       "    }\n",
       "</style>\n",
       "<table border=\"1\" class=\"dataframe\">\n",
       "  <thead>\n",
       "    <tr style=\"text-align: right;\">\n",
       "      <th></th>\n",
       "      <th>count</th>\n",
       "      <th>mean</th>\n",
       "      <th>std</th>\n",
       "      <th>min</th>\n",
       "      <th>25%</th>\n",
       "      <th>50%</th>\n",
       "      <th>75%</th>\n",
       "      <th>max</th>\n",
       "    </tr>\n",
       "  </thead>\n",
       "  <tbody>\n",
       "    <tr>\n",
       "      <th>Rooms</th>\n",
       "      <td>10000.00000</td>\n",
       "      <td>1.89050</td>\n",
       "      <td>0.83951</td>\n",
       "      <td>0.00000</td>\n",
       "      <td>1.00000</td>\n",
       "      <td>2.00000</td>\n",
       "      <td>2.00000</td>\n",
       "      <td>19.00000</td>\n",
       "    </tr>\n",
       "    <tr>\n",
       "      <th>Square</th>\n",
       "      <td>10000.00000</td>\n",
       "      <td>56.31578</td>\n",
       "      <td>21.05873</td>\n",
       "      <td>1.13686</td>\n",
       "      <td>41.77488</td>\n",
       "      <td>52.51331</td>\n",
       "      <td>65.90063</td>\n",
       "      <td>641.06519</td>\n",
       "    </tr>\n",
       "    <tr>\n",
       "      <th>LifeSquare</th>\n",
       "      <td>7887.00000</td>\n",
       "      <td>37.19964</td>\n",
       "      <td>86.24121</td>\n",
       "      <td>0.37062</td>\n",
       "      <td>22.76983</td>\n",
       "      <td>32.78126</td>\n",
       "      <td>45.12880</td>\n",
       "      <td>7480.59213</td>\n",
       "    </tr>\n",
       "    <tr>\n",
       "      <th>KitchenSquare</th>\n",
       "      <td>10000.00000</td>\n",
       "      <td>6.27330</td>\n",
       "      <td>28.56092</td>\n",
       "      <td>0.00000</td>\n",
       "      <td>1.00000</td>\n",
       "      <td>6.00000</td>\n",
       "      <td>9.00000</td>\n",
       "      <td>2014.00000</td>\n",
       "    </tr>\n",
       "    <tr>\n",
       "      <th>Floor</th>\n",
       "      <td>10000.00000</td>\n",
       "      <td>8.52670</td>\n",
       "      <td>5.24115</td>\n",
       "      <td>1.00000</td>\n",
       "      <td>4.00000</td>\n",
       "      <td>7.00000</td>\n",
       "      <td>12.00000</td>\n",
       "      <td>42.00000</td>\n",
       "    </tr>\n",
       "    <tr>\n",
       "      <th>HouseFloor</th>\n",
       "      <td>10000.00000</td>\n",
       "      <td>12.60940</td>\n",
       "      <td>6.77597</td>\n",
       "      <td>0.00000</td>\n",
       "      <td>9.00000</td>\n",
       "      <td>13.00000</td>\n",
       "      <td>17.00000</td>\n",
       "      <td>117.00000</td>\n",
       "    </tr>\n",
       "    <tr>\n",
       "      <th>HouseYear</th>\n",
       "      <td>10000.00000</td>\n",
       "      <td>3990.16630</td>\n",
       "      <td>200500.26143</td>\n",
       "      <td>1910.00000</td>\n",
       "      <td>1974.00000</td>\n",
       "      <td>1977.00000</td>\n",
       "      <td>2001.00000</td>\n",
       "      <td>20052011.00000</td>\n",
       "    </tr>\n",
       "    <tr>\n",
       "      <th>Ecology_1</th>\n",
       "      <td>10000.00000</td>\n",
       "      <td>0.11886</td>\n",
       "      <td>0.11903</td>\n",
       "      <td>0.00000</td>\n",
       "      <td>0.01765</td>\n",
       "      <td>0.07542</td>\n",
       "      <td>0.19578</td>\n",
       "      <td>0.52187</td>\n",
       "    </tr>\n",
       "    <tr>\n",
       "      <th>Social_1</th>\n",
       "      <td>10000.00000</td>\n",
       "      <td>24.68700</td>\n",
       "      <td>17.53261</td>\n",
       "      <td>0.00000</td>\n",
       "      <td>6.00000</td>\n",
       "      <td>25.00000</td>\n",
       "      <td>36.00000</td>\n",
       "      <td>74.00000</td>\n",
       "    </tr>\n",
       "    <tr>\n",
       "      <th>Social_2</th>\n",
       "      <td>10000.00000</td>\n",
       "      <td>5352.15740</td>\n",
       "      <td>4006.79980</td>\n",
       "      <td>168.00000</td>\n",
       "      <td>1564.00000</td>\n",
       "      <td>5285.00000</td>\n",
       "      <td>7227.00000</td>\n",
       "      <td>19083.00000</td>\n",
       "    </tr>\n",
       "    <tr>\n",
       "      <th>Social_3</th>\n",
       "      <td>10000.00000</td>\n",
       "      <td>8.03920</td>\n",
       "      <td>23.83187</td>\n",
       "      <td>0.00000</td>\n",
       "      <td>0.00000</td>\n",
       "      <td>2.00000</td>\n",
       "      <td>5.00000</td>\n",
       "      <td>141.00000</td>\n",
       "    </tr>\n",
       "    <tr>\n",
       "      <th>Helthcare_2</th>\n",
       "      <td>10000.00000</td>\n",
       "      <td>1.31950</td>\n",
       "      <td>1.49360</td>\n",
       "      <td>0.00000</td>\n",
       "      <td>0.00000</td>\n",
       "      <td>1.00000</td>\n",
       "      <td>2.00000</td>\n",
       "      <td>6.00000</td>\n",
       "    </tr>\n",
       "    <tr>\n",
       "      <th>Shops_1</th>\n",
       "      <td>10000.00000</td>\n",
       "      <td>4.23130</td>\n",
       "      <td>4.80634</td>\n",
       "      <td>0.00000</td>\n",
       "      <td>1.00000</td>\n",
       "      <td>3.00000</td>\n",
       "      <td>6.00000</td>\n",
       "      <td>23.00000</td>\n",
       "    </tr>\n",
       "    <tr>\n",
       "      <th>Price</th>\n",
       "      <td>10000.00000</td>\n",
       "      <td>214138.85740</td>\n",
       "      <td>92872.29387</td>\n",
       "      <td>59174.77803</td>\n",
       "      <td>153872.63394</td>\n",
       "      <td>192269.64488</td>\n",
       "      <td>249135.46217</td>\n",
       "      <td>633233.46657</td>\n",
       "    </tr>\n",
       "  </tbody>\n",
       "</table>\n",
       "</div>"
      ],
      "text/plain": [
       "                    count         mean          std         min          25%  \\\n",
       "Rooms         10000.00000      1.89050      0.83951     0.00000      1.00000   \n",
       "Square        10000.00000     56.31578     21.05873     1.13686     41.77488   \n",
       "LifeSquare     7887.00000     37.19964     86.24121     0.37062     22.76983   \n",
       "KitchenSquare 10000.00000      6.27330     28.56092     0.00000      1.00000   \n",
       "Floor         10000.00000      8.52670      5.24115     1.00000      4.00000   \n",
       "HouseFloor    10000.00000     12.60940      6.77597     0.00000      9.00000   \n",
       "HouseYear     10000.00000   3990.16630 200500.26143  1910.00000   1974.00000   \n",
       "Ecology_1     10000.00000      0.11886      0.11903     0.00000      0.01765   \n",
       "Social_1      10000.00000     24.68700     17.53261     0.00000      6.00000   \n",
       "Social_2      10000.00000   5352.15740   4006.79980   168.00000   1564.00000   \n",
       "Social_3      10000.00000      8.03920     23.83187     0.00000      0.00000   \n",
       "Helthcare_2   10000.00000      1.31950      1.49360     0.00000      0.00000   \n",
       "Shops_1       10000.00000      4.23130      4.80634     0.00000      1.00000   \n",
       "Price         10000.00000 214138.85740  92872.29387 59174.77803 153872.63394   \n",
       "\n",
       "                       50%          75%            max  \n",
       "Rooms              2.00000      2.00000       19.00000  \n",
       "Square            52.51331     65.90063      641.06519  \n",
       "LifeSquare        32.78126     45.12880     7480.59213  \n",
       "KitchenSquare      6.00000      9.00000     2014.00000  \n",
       "Floor              7.00000     12.00000       42.00000  \n",
       "HouseFloor        13.00000     17.00000      117.00000  \n",
       "HouseYear       1977.00000   2001.00000 20052011.00000  \n",
       "Ecology_1          0.07542      0.19578        0.52187  \n",
       "Social_1          25.00000     36.00000       74.00000  \n",
       "Social_2        5285.00000   7227.00000    19083.00000  \n",
       "Social_3           2.00000      5.00000      141.00000  \n",
       "Helthcare_2        1.00000      2.00000        6.00000  \n",
       "Shops_1            3.00000      6.00000       23.00000  \n",
       "Price         192269.64488 249135.46217   633233.46657  "
      ]
     },
     "execution_count": 12,
     "metadata": {},
     "output_type": "execute_result"
    }
   ],
   "source": [
    "train_df.describe().T"
   ]
  },
  {
   "cell_type": "code",
   "execution_count": 13,
   "metadata": {
    "ExecuteTime": {
     "end_time": "2020-07-09T20:46:23.629572Z",
     "start_time": "2020-07-09T20:46:23.594514Z"
    }
   },
   "outputs": [
    {
     "data": {
      "text/html": [
       "<div>\n",
       "<style scoped>\n",
       "    .dataframe tbody tr th:only-of-type {\n",
       "        vertical-align: middle;\n",
       "    }\n",
       "\n",
       "    .dataframe tbody tr th {\n",
       "        vertical-align: top;\n",
       "    }\n",
       "\n",
       "    .dataframe thead th {\n",
       "        text-align: right;\n",
       "    }\n",
       "</style>\n",
       "<table border=\"1\" class=\"dataframe\">\n",
       "  <thead>\n",
       "    <tr style=\"text-align: right;\">\n",
       "      <th></th>\n",
       "      <th>count</th>\n",
       "      <th>unique</th>\n",
       "      <th>top</th>\n",
       "      <th>freq</th>\n",
       "    </tr>\n",
       "  </thead>\n",
       "  <tbody>\n",
       "    <tr>\n",
       "      <th>DistrictId</th>\n",
       "      <td>10000</td>\n",
       "      <td>205</td>\n",
       "      <td>27</td>\n",
       "      <td>851</td>\n",
       "    </tr>\n",
       "    <tr>\n",
       "      <th>Ecology_2</th>\n",
       "      <td>10000</td>\n",
       "      <td>2</td>\n",
       "      <td>B</td>\n",
       "      <td>9903</td>\n",
       "    </tr>\n",
       "    <tr>\n",
       "      <th>Ecology_3</th>\n",
       "      <td>10000</td>\n",
       "      <td>2</td>\n",
       "      <td>B</td>\n",
       "      <td>9725</td>\n",
       "    </tr>\n",
       "    <tr>\n",
       "      <th>Shops_2</th>\n",
       "      <td>10000</td>\n",
       "      <td>2</td>\n",
       "      <td>B</td>\n",
       "      <td>9175</td>\n",
       "    </tr>\n",
       "  </tbody>\n",
       "</table>\n",
       "</div>"
      ],
      "text/plain": [
       "            count unique top  freq\n",
       "DistrictId  10000    205  27   851\n",
       "Ecology_2   10000      2   B  9903\n",
       "Ecology_3   10000      2   B  9725\n",
       "Shops_2     10000      2   B  9175"
      ]
     },
     "execution_count": 13,
     "metadata": {},
     "output_type": "execute_result"
    }
   ],
   "source": [
    "train_df.describe(include=['O']).T"
   ]
  },
  {
   "cell_type": "code",
   "execution_count": 14,
   "metadata": {
    "ExecuteTime": {
     "end_time": "2020-07-09T20:46:23.665973Z",
     "start_time": "2020-07-09T20:46:23.632472Z"
    }
   },
   "outputs": [
    {
     "data": {
      "text/html": [
       "<div>\n",
       "<style scoped>\n",
       "    .dataframe tbody tr th:only-of-type {\n",
       "        vertical-align: middle;\n",
       "    }\n",
       "\n",
       "    .dataframe tbody tr th {\n",
       "        vertical-align: top;\n",
       "    }\n",
       "\n",
       "    .dataframe thead th {\n",
       "        text-align: right;\n",
       "    }\n",
       "</style>\n",
       "<table border=\"1\" class=\"dataframe\">\n",
       "  <thead>\n",
       "    <tr style=\"text-align: right;\">\n",
       "      <th></th>\n",
       "      <th>count</th>\n",
       "      <th>unique</th>\n",
       "      <th>top</th>\n",
       "      <th>freq</th>\n",
       "    </tr>\n",
       "  </thead>\n",
       "  <tbody>\n",
       "    <tr>\n",
       "      <th>DistrictId</th>\n",
       "      <td>5000</td>\n",
       "      <td>201</td>\n",
       "      <td>27</td>\n",
       "      <td>391</td>\n",
       "    </tr>\n",
       "    <tr>\n",
       "      <th>Ecology_2</th>\n",
       "      <td>5000</td>\n",
       "      <td>2</td>\n",
       "      <td>B</td>\n",
       "      <td>4952</td>\n",
       "    </tr>\n",
       "    <tr>\n",
       "      <th>Ecology_3</th>\n",
       "      <td>5000</td>\n",
       "      <td>2</td>\n",
       "      <td>B</td>\n",
       "      <td>4851</td>\n",
       "    </tr>\n",
       "    <tr>\n",
       "      <th>Shops_2</th>\n",
       "      <td>5000</td>\n",
       "      <td>2</td>\n",
       "      <td>B</td>\n",
       "      <td>4588</td>\n",
       "    </tr>\n",
       "  </tbody>\n",
       "</table>\n",
       "</div>"
      ],
      "text/plain": [
       "           count unique top  freq\n",
       "DistrictId  5000    201  27   391\n",
       "Ecology_2   5000      2   B  4952\n",
       "Ecology_3   5000      2   B  4851\n",
       "Shops_2     5000      2   B  4588"
      ]
     },
     "execution_count": 14,
     "metadata": {},
     "output_type": "execute_result"
    }
   ],
   "source": [
    "test_df.describe(include=['O']).T"
   ]
  },
  {
   "cell_type": "code",
   "execution_count": 15,
   "metadata": {
    "ExecuteTime": {
     "end_time": "2020-07-09T20:46:23.690426Z",
     "start_time": "2020-07-09T20:46:23.669544Z"
    },
    "scrolled": false
   },
   "outputs": [
    {
     "name": "stdout",
     "output_type": "stream",
     "text": [
      "B    9903\n",
      "A      97\n",
      "Name: Ecology_2, dtype: int64\n",
      "------------------------------\n",
      "B    9725\n",
      "A     275\n",
      "Name: Ecology_3, dtype: int64\n",
      "------------------------------\n",
      "B    9175\n",
      "A     825\n",
      "Name: Shops_2, dtype: int64\n",
      "------------------------------\n"
     ]
    }
   ],
   "source": [
    "cat_colnames = train_df.select_dtypes(include='object').columns.tolist()\n",
    "for i in cat_colnames[1:]:\n",
    "    print(str(train_df[i].value_counts()) + '\\n' + '-'*30)\n"
   ]
  },
  {
   "cell_type": "markdown",
   "metadata": {},
   "source": [
    "### Посторим гистограммы, чтобы посмотреть признаки с выбросами"
   ]
  },
  {
   "cell_type": "code",
   "execution_count": 16,
   "metadata": {
    "ExecuteTime": {
     "end_time": "2020-07-09T20:46:25.868611Z",
     "start_time": "2020-07-09T20:46:23.695985Z"
    }
   },
   "outputs": [
    {
     "data": {
      "image/png": "[encoded data removed]",
      "text/plain": [
       "<Figure size 1152x1152 with 16 Axes>"
      ]
     },
     "metadata": {
      "needs_background": "light"
     },
     "output_type": "display_data"
    }
   ],
   "source": [
    "train_df.hist(\n",
    "    figsize=(16,16)\n",
    ")\n",
    "plt.show()\n"
   ]
  },
  {
   "cell_type": "code",
   "execution_count": 17,
   "metadata": {
    "ExecuteTime": {
     "end_time": "2020-07-09T20:46:27.977383Z",
     "start_time": "2020-07-09T20:46:25.871160Z"
    }
   },
   "outputs": [
    {
     "data": {
      "image/png": "[encoded data removed]",
      "text/plain": [
       "<Figure size 1152x1152 with 16 Axes>"
      ]
     },
     "metadata": {
      "needs_background": "light"
     },
     "output_type": "display_data"
    }
   ],
   "source": [
    "test_df.hist(\n",
    "    figsize=(16,16)\n",
    ")\n",
    "plt.show()"
   ]
  },
  {
   "cell_type": "code",
   "execution_count": 18,
   "metadata": {
    "ExecuteTime": {
     "end_time": "2020-07-09T20:46:27.983766Z",
     "start_time": "2020-07-09T20:46:27.980017Z"
    }
   },
   "outputs": [],
   "source": [
    "# Видим, что 'KitchenSquare', 'LifeSquare' и  'HouseYear'(в тренировочном датасете) содержат выбросы. \n",
    "# Рассмотрим их подробнее"
   ]
  },
  {
   "cell_type": "markdown",
   "metadata": {},
   "source": [
    "**признак HouseYear тренировочного датасета**"
   ]
  },
  {
   "cell_type": "code",
   "execution_count": 19,
   "metadata": {
    "ExecuteTime": {
     "end_time": "2020-07-09T20:46:27.999583Z",
     "start_time": "2020-07-09T20:46:27.988441Z"
    }
   },
   "outputs": [
    {
     "data": {
      "text/plain": [
       "array([    1910,     1912,     1914,     1916,     1917,     1918,\n",
       "           1919,     1928,     1929,     1930,     1931,     1932,\n",
       "           1933,     1934,     1935,     1936,     1937,     1938,\n",
       "           1939,     1940,     1941,     1942,     1947,     1948,\n",
       "           1950,     1951,     1952,     1953,     1954,     1955,\n",
       "           1956,     1957,     1958,     1959,     1960,     1961,\n",
       "           1962,     1963,     1964,     1965,     1966,     1967,\n",
       "           1968,     1969,     1970,     1971,     1972,     1973,\n",
       "           1974,     1975,     1976,     1977,     1978,     1979,\n",
       "           1980,     1981,     1982,     1983,     1984,     1985,\n",
       "           1986,     1987,     1988,     1989,     1990,     1991,\n",
       "           1992,     1993,     1994,     1995,     1996,     1997,\n",
       "           1998,     1999,     2000,     2001,     2002,     2003,\n",
       "           2004,     2005,     2006,     2007,     2008,     2009,\n",
       "           2010,     2011,     2012,     2013,     2014,     2015,\n",
       "           2016,     2017,     2018,     2019,     2020,     4968,\n",
       "       20052011])"
      ]
     },
     "execution_count": 19,
     "metadata": {},
     "output_type": "execute_result"
    }
   ],
   "source": [
    "train_df['HouseYear'].sort_values().unique()"
   ]
  },
  {
   "cell_type": "code",
   "execution_count": 20,
   "metadata": {
    "ExecuteTime": {
     "end_time": "2020-07-09T20:46:28.017594Z",
     "start_time": "2020-07-09T20:46:28.004383Z"
    }
   },
   "outputs": [],
   "source": [
    "train_df.loc[train_df['HouseYear'] == 20052011, 'HouseYear'] = 2011\n",
    "train_df.loc[train_df['HouseYear'] > 2020, 'HouseYear'] = 2020"
   ]
  },
  {
   "cell_type": "markdown",
   "metadata": {
    "ExecuteTime": {
     "end_time": "2020-07-06T21:17:34.134275Z",
     "start_time": "2020-07-06T21:17:34.127122Z"
    }
   },
   "source": [
    "**признак Square тренировочного датасета**"
   ]
  },
  {
   "cell_type": "code",
   "execution_count": 21,
   "metadata": {
    "ExecuteTime": {
     "end_time": "2020-07-09T20:46:28.058438Z",
     "start_time": "2020-07-09T20:46:28.023369Z"
    }
   },
   "outputs": [
    {
     "data": {
      "text/html": [
       "<div>\n",
       "<style scoped>\n",
       "    .dataframe tbody tr th:only-of-type {\n",
       "        vertical-align: middle;\n",
       "    }\n",
       "\n",
       "    .dataframe tbody tr th {\n",
       "        vertical-align: top;\n",
       "    }\n",
       "\n",
       "    .dataframe thead th {\n",
       "        text-align: right;\n",
       "    }\n",
       "</style>\n",
       "<table border=\"1\" class=\"dataframe\">\n",
       "  <thead>\n",
       "    <tr style=\"text-align: right;\">\n",
       "      <th></th>\n",
       "      <th>KitchenSquare</th>\n",
       "      <th>LifeSquare</th>\n",
       "      <th>Square</th>\n",
       "    </tr>\n",
       "  </thead>\n",
       "  <tbody>\n",
       "    <tr>\n",
       "      <th>count</th>\n",
       "      <td>10000.00000</td>\n",
       "      <td>7887.00000</td>\n",
       "      <td>10000.00000</td>\n",
       "    </tr>\n",
       "    <tr>\n",
       "      <th>mean</th>\n",
       "      <td>6.27330</td>\n",
       "      <td>37.19964</td>\n",
       "      <td>56.31578</td>\n",
       "    </tr>\n",
       "    <tr>\n",
       "      <th>std</th>\n",
       "      <td>28.56092</td>\n",
       "      <td>86.24121</td>\n",
       "      <td>21.05873</td>\n",
       "    </tr>\n",
       "    <tr>\n",
       "      <th>min</th>\n",
       "      <td>0.00000</td>\n",
       "      <td>0.37062</td>\n",
       "      <td>1.13686</td>\n",
       "    </tr>\n",
       "    <tr>\n",
       "      <th>25%</th>\n",
       "      <td>1.00000</td>\n",
       "      <td>22.76983</td>\n",
       "      <td>41.77488</td>\n",
       "    </tr>\n",
       "    <tr>\n",
       "      <th>50%</th>\n",
       "      <td>6.00000</td>\n",
       "      <td>32.78126</td>\n",
       "      <td>52.51331</td>\n",
       "    </tr>\n",
       "    <tr>\n",
       "      <th>75%</th>\n",
       "      <td>9.00000</td>\n",
       "      <td>45.12880</td>\n",
       "      <td>65.90063</td>\n",
       "    </tr>\n",
       "    <tr>\n",
       "      <th>max</th>\n",
       "      <td>2014.00000</td>\n",
       "      <td>7480.59213</td>\n",
       "      <td>641.06519</td>\n",
       "    </tr>\n",
       "  </tbody>\n",
       "</table>\n",
       "</div>"
      ],
      "text/plain": [
       "       KitchenSquare  LifeSquare      Square\n",
       "count    10000.00000  7887.00000 10000.00000\n",
       "mean         6.27330    37.19964    56.31578\n",
       "std         28.56092    86.24121    21.05873\n",
       "min          0.00000     0.37062     1.13686\n",
       "25%          1.00000    22.76983    41.77488\n",
       "50%          6.00000    32.78126    52.51331\n",
       "75%          9.00000    45.12880    65.90063\n",
       "max       2014.00000  7480.59213   641.06519"
      ]
     },
     "execution_count": 21,
     "metadata": {},
     "output_type": "execute_result"
    }
   ],
   "source": [
    "train_df[['KitchenSquare', 'LifeSquare', 'Square']].describe()"
   ]
  },
  {
   "cell_type": "code",
   "execution_count": 22,
   "metadata": {
    "ExecuteTime": {
     "end_time": "2020-07-09T20:46:28.076274Z",
     "start_time": "2020-07-09T20:46:28.062311Z"
    }
   },
   "outputs": [],
   "source": [
    "# Чтобы заменить выбросы в Square сделаем следующее\n",
    "# Посчитаем первый и третий квартили\n",
    "first_quartile = train_df['Square'].describe()['25%']\n",
    "third_quartile = train_df['Square'].describe()['75%']\n",
    "# Вычислим межквартильный интервал\n",
    "iqr = third_quartile - first_quartile"
   ]
  },
  {
   "cell_type": "code",
   "execution_count": 23,
   "metadata": {
    "ExecuteTime": {
     "end_time": "2020-07-09T20:46:28.101985Z",
     "start_time": "2020-07-09T20:46:28.087125Z"
    }
   },
   "outputs": [],
   "source": [
    "# Заменим значения которые превышают 3 межквартильных размаха на медианные\n",
    "train_df.loc[(train_df['Square'] < (first_quartile - 3 * iqr)) |\n",
    "            (train_df['Square'] > (third_quartile + 3 * iqr)), 'Square'] = train_df['Square'].median()"
   ]
  },
  {
   "cell_type": "code",
   "execution_count": 24,
   "metadata": {
    "ExecuteTime": {
     "end_time": "2020-07-09T20:46:28.125676Z",
     "start_time": "2020-07-09T20:46:28.111414Z"
    }
   },
   "outputs": [
    {
     "data": {
      "text/plain": [
       "count   10000.00000\n",
       "mean       55.79542\n",
       "std        17.99888\n",
       "min         1.13686\n",
       "25%        41.77488\n",
       "50%        52.51304\n",
       "75%        65.77685\n",
       "max       137.90778\n",
       "Name: Square, dtype: float64"
      ]
     },
     "execution_count": 24,
     "metadata": {},
     "output_type": "execute_result"
    }
   ],
   "source": [
    "train_df['Square'].describe()"
   ]
  },
  {
   "cell_type": "code",
   "execution_count": 25,
   "metadata": {
    "ExecuteTime": {
     "end_time": "2020-07-09T20:46:28.138327Z",
     "start_time": "2020-07-09T20:46:28.129625Z"
    }
   },
   "outputs": [],
   "source": [
    "# минимальная площадь все равно выглядит неправдоподобно, зададим минимальную площадь равную 10\n",
    "train_df.loc[train_df['Square'] < 10, 'Square'] = 10"
   ]
  },
  {
   "cell_type": "code",
   "execution_count": 26,
   "metadata": {
    "ExecuteTime": {
     "end_time": "2020-07-09T20:46:28.156728Z",
     "start_time": "2020-07-09T20:46:28.142410Z"
    }
   },
   "outputs": [
    {
     "data": {
      "text/plain": [
       "count   10000.00000\n",
       "mean       55.80298\n",
       "std        17.97825\n",
       "min        10.00000\n",
       "25%        41.77488\n",
       "50%        52.51304\n",
       "75%        65.77685\n",
       "max       137.90778\n",
       "Name: Square, dtype: float64"
      ]
     },
     "execution_count": 26,
     "metadata": {},
     "output_type": "execute_result"
    }
   ],
   "source": [
    "train_df['Square'].describe()"
   ]
  },
  {
   "cell_type": "markdown",
   "metadata": {
    "ExecuteTime": {
     "end_time": "2020-07-06T21:13:00.321606Z",
     "start_time": "2020-07-06T21:13:00.309877Z"
    }
   },
   "source": [
    "**Square тестового датасета**"
   ]
  },
  {
   "cell_type": "code",
   "execution_count": 27,
   "metadata": {
    "ExecuteTime": {
     "end_time": "2020-07-09T20:46:28.177927Z",
     "start_time": "2020-07-09T20:46:28.161356Z"
    }
   },
   "outputs": [
    {
     "data": {
      "text/plain": [
       "count   5000.00000\n",
       "mean      56.44950\n",
       "std       19.09279\n",
       "min        1.37854\n",
       "25%       41.90623\n",
       "50%       52.92134\n",
       "75%       66.28513\n",
       "max      223.45369\n",
       "Name: Square, dtype: float64"
      ]
     },
     "execution_count": 27,
     "metadata": {},
     "output_type": "execute_result"
    }
   ],
   "source": [
    "test_df['Square'].describe()"
   ]
  },
  {
   "cell_type": "code",
   "execution_count": 28,
   "metadata": {
    "ExecuteTime": {
     "end_time": "2020-07-09T20:46:28.190335Z",
     "start_time": "2020-07-09T20:46:28.182149Z"
    }
   },
   "outputs": [],
   "source": [
    "# С выбросами все нормально. Заменим только минимальную площадь\n",
    "test_df.loc[test_df['Square'] < 10, 'Square'] = 10"
   ]
  },
  {
   "cell_type": "code",
   "execution_count": 29,
   "metadata": {
    "ExecuteTime": {
     "end_time": "2020-07-09T20:46:28.216038Z",
     "start_time": "2020-07-09T20:46:28.195484Z"
    }
   },
   "outputs": [
    {
     "data": {
      "text/plain": [
       "count   5000.00000\n",
       "mean      56.46010\n",
       "std       19.06503\n",
       "min       10.00000\n",
       "25%       41.90623\n",
       "50%       52.92134\n",
       "75%       66.28513\n",
       "max      223.45369\n",
       "Name: Square, dtype: float64"
      ]
     },
     "execution_count": 29,
     "metadata": {},
     "output_type": "execute_result"
    }
   ],
   "source": [
    "test_df['Square'].describe()"
   ]
  },
  {
   "cell_type": "markdown",
   "metadata": {
    "ExecuteTime": {
     "end_time": "2020-07-06T21:15:36.993076Z",
     "start_time": "2020-07-06T21:15:36.985287Z"
    }
   },
   "source": [
    "**признак LifeSquare тренировочного датасета**"
   ]
  },
  {
   "cell_type": "code",
   "execution_count": 30,
   "metadata": {
    "ExecuteTime": {
     "end_time": "2020-07-09T20:46:28.237359Z",
     "start_time": "2020-07-09T20:46:28.219282Z"
    }
   },
   "outputs": [
    {
     "data": {
      "text/plain": [
       "0.6355940680921265"
      ]
     },
     "execution_count": 30,
     "metadata": {},
     "output_type": "execute_result"
    }
   ],
   "source": [
    "# У нас много строк, где жилая площадь больше общей, чего быть не может\n",
    "# Чтобы заполнить пропуски и выбросы в LifeSquare, посмотрим как в средней этот параметр относится к общей\n",
    "# жилой площади в тех случаях, где общая площадь больше чем жилая\n",
    "_ = train_df[train_df['Square'] > train_df['LifeSquare']][['Square', 'LifeSquare']].median()\n",
    "life_to_sq = _[1] / _[0]\n",
    "life_to_sq"
   ]
  },
  {
   "cell_type": "code",
   "execution_count": 31,
   "metadata": {
    "ExecuteTime": {
     "end_time": "2020-07-09T20:46:28.274302Z",
     "start_time": "2020-07-09T20:46:28.241132Z"
    }
   },
   "outputs": [],
   "source": [
    "# Получаем что в среднем жилая площадь составляет 63% от общей площади. Выглядит правдоподобно\n",
    "# Заменим все пропуски и выбросы с учетом этого коэффициента\n",
    "train_df.loc[train_df['Square'] < train_df['LifeSquare'], 'LifeSquare']= train_df['Square'] * life_to_sq\n",
    "train_df.loc[train_df['LifeSquare'] < 10, 'LifeSquare']= train_df['Square'] * life_to_sq\n",
    "train_df.loc[train_df['LifeSquare'].isna(), 'LifeSquare']= train_df['Square'] * life_to_sq"
   ]
  },
  {
   "cell_type": "code",
   "execution_count": 32,
   "metadata": {
    "ExecuteTime": {
     "end_time": "2020-07-09T20:46:28.294189Z",
     "start_time": "2020-07-09T20:46:28.277436Z"
    }
   },
   "outputs": [
    {
     "data": {
      "text/plain": [
       "count   10000.00000\n",
       "mean       35.80561\n",
       "std        14.00435\n",
       "min         6.35594\n",
       "25%        24.94390\n",
       "50%        33.16875\n",
       "75%        43.85929\n",
       "max       136.69719\n",
       "Name: LifeSquare, dtype: float64"
      ]
     },
     "execution_count": 32,
     "metadata": {},
     "output_type": "execute_result"
    }
   ],
   "source": [
    "train_df['LifeSquare'].describe()"
   ]
  },
  {
   "cell_type": "markdown",
   "metadata": {},
   "source": [
    "**признак LifeSquare тестового датасета**"
   ]
  },
  {
   "cell_type": "code",
   "execution_count": 33,
   "metadata": {
    "ExecuteTime": {
     "end_time": "2020-07-09T20:46:28.312279Z",
     "start_time": "2020-07-09T20:46:28.297301Z"
    }
   },
   "outputs": [
    {
     "data": {
      "text/plain": [
       "count   3959.00000\n",
       "mean      36.15881\n",
       "std       17.82529\n",
       "min        0.33349\n",
       "25%       23.09203\n",
       "50%       32.92509\n",
       "75%       45.17409\n",
       "max      303.07109\n",
       "Name: LifeSquare, dtype: float64"
      ]
     },
     "execution_count": 33,
     "metadata": {},
     "output_type": "execute_result"
    }
   ],
   "source": [
    "test_df['LifeSquare'].describe()"
   ]
  },
  {
   "cell_type": "code",
   "execution_count": 34,
   "metadata": {
    "ExecuteTime": {
     "end_time": "2020-07-09T20:46:28.335865Z",
     "start_time": "2020-07-09T20:46:28.315850Z"
    }
   },
   "outputs": [],
   "source": [
    "#Коэффициент будем использовать тот, что рассчитали на трейне\n",
    "test_df.loc[test_df['Square'] < test_df['LifeSquare'], 'LifeSquare']= test_df['Square'] * life_to_sq\n",
    "test_df.loc[test_df['LifeSquare'] < 10, 'LifeSquare']= test_df['Square'] * life_to_sq\n",
    "test_df.loc[test_df['LifeSquare'].isna(), 'LifeSquare']= test_df['Square'] * life_to_sq"
   ]
  },
  {
   "cell_type": "code",
   "execution_count": 35,
   "metadata": {
    "ExecuteTime": {
     "end_time": "2020-07-09T20:46:28.354304Z",
     "start_time": "2020-07-09T20:46:28.339434Z"
    }
   },
   "outputs": [
    {
     "data": {
      "text/plain": [
       "count   5000.00000\n",
       "mean      36.23410\n",
       "std       14.36575\n",
       "min        6.35594\n",
       "25%       25.04885\n",
       "50%       33.53277\n",
       "75%       44.39945\n",
       "max      136.92109\n",
       "Name: LifeSquare, dtype: float64"
      ]
     },
     "execution_count": 35,
     "metadata": {},
     "output_type": "execute_result"
    }
   ],
   "source": [
    "test_df['LifeSquare'].describe()"
   ]
  },
  {
   "cell_type": "markdown",
   "metadata": {},
   "source": [
    "**признак KitchenSquare тренировочного датасета**"
   ]
  },
  {
   "cell_type": "code",
   "execution_count": 36,
   "metadata": {
    "ExecuteTime": {
     "end_time": "2020-07-09T20:46:28.377305Z",
     "start_time": "2020-07-09T20:46:28.358416Z"
    }
   },
   "outputs": [
    {
     "data": {
      "text/plain": [
       "0.11425674764515831"
      ]
     },
     "execution_count": 36,
     "metadata": {},
     "output_type": "execute_result"
    }
   ],
   "source": [
    "#  Cделаем для площади кухни также как и для LifeSquare\n",
    "_ = train_df[train_df['Square'] > train_df['KitchenSquare']][['Square', 'KitchenSquare']].median()\n",
    "life_to_sq = _[1] / _[0]\n",
    "life_to_sq"
   ]
  },
  {
   "cell_type": "code",
   "execution_count": 37,
   "metadata": {
    "ExecuteTime": {
     "end_time": "2020-07-09T20:46:28.408644Z",
     "start_time": "2020-07-09T20:46:28.389936Z"
    }
   },
   "outputs": [],
   "source": [
    "train_df.loc[train_df['Square'] < train_df['KitchenSquare'], 'KitchenSquare'] = train_df['Square'] * life_to_sq\n",
    "train_df.loc[train_df['KitchenSquare'] < 5, 'KitchenSquare'] = train_df['Square'] * life_to_sq"
   ]
  },
  {
   "cell_type": "markdown",
   "metadata": {},
   "source": [
    "**признак KitchenSquare тестового датасета**"
   ]
  },
  {
   "cell_type": "code",
   "execution_count": 38,
   "metadata": {
    "ExecuteTime": {
     "end_time": "2020-07-09T20:46:28.427829Z",
     "start_time": "2020-07-09T20:46:28.411949Z"
    }
   },
   "outputs": [],
   "source": [
    "test_df.loc[test_df['Square'] < test_df['KitchenSquare'], 'KitchenSquare'] = test_df['Square'] * life_to_sq\n",
    "test_df.loc[test_df['KitchenSquare'] < 5, 'KitchenSquare'] = test_df['Square'] * life_to_sq"
   ]
  },
  {
   "cell_type": "code",
   "execution_count": 39,
   "metadata": {
    "ExecuteTime": {
     "end_time": "2020-07-09T20:46:28.457326Z",
     "start_time": "2020-07-09T20:46:28.430899Z"
    }
   },
   "outputs": [
    {
     "data": {
      "text/html": [
       "<div>\n",
       "<style scoped>\n",
       "    .dataframe tbody tr th:only-of-type {\n",
       "        vertical-align: middle;\n",
       "    }\n",
       "\n",
       "    .dataframe tbody tr th {\n",
       "        vertical-align: top;\n",
       "    }\n",
       "\n",
       "    .dataframe thead th {\n",
       "        text-align: right;\n",
       "    }\n",
       "</style>\n",
       "<table border=\"1\" class=\"dataframe\">\n",
       "  <thead>\n",
       "    <tr style=\"text-align: right;\">\n",
       "      <th></th>\n",
       "      <th>KitchenSquare</th>\n",
       "      <th>LifeSquare</th>\n",
       "      <th>Square</th>\n",
       "    </tr>\n",
       "  </thead>\n",
       "  <tbody>\n",
       "    <tr>\n",
       "      <th>count</th>\n",
       "      <td>10000.00000</td>\n",
       "      <td>10000.00000</td>\n",
       "      <td>10000.00000</td>\n",
       "    </tr>\n",
       "    <tr>\n",
       "      <th>mean</th>\n",
       "      <td>7.76570</td>\n",
       "      <td>35.80561</td>\n",
       "      <td>55.80298</td>\n",
       "    </tr>\n",
       "    <tr>\n",
       "      <th>std</th>\n",
       "      <td>3.94819</td>\n",
       "      <td>14.00435</td>\n",
       "      <td>17.97825</td>\n",
       "    </tr>\n",
       "    <tr>\n",
       "      <th>min</th>\n",
       "      <td>1.14257</td>\n",
       "      <td>6.35594</td>\n",
       "      <td>10.00000</td>\n",
       "    </tr>\n",
       "    <tr>\n",
       "      <th>25%</th>\n",
       "      <td>5.93929</td>\n",
       "      <td>24.94390</td>\n",
       "      <td>41.77488</td>\n",
       "    </tr>\n",
       "    <tr>\n",
       "      <th>50%</th>\n",
       "      <td>7.48700</td>\n",
       "      <td>33.16875</td>\n",
       "      <td>52.51304</td>\n",
       "    </tr>\n",
       "    <tr>\n",
       "      <th>75%</th>\n",
       "      <td>9.00000</td>\n",
       "      <td>43.85929</td>\n",
       "      <td>65.77685</td>\n",
       "    </tr>\n",
       "    <tr>\n",
       "      <th>max</th>\n",
       "      <td>123.00000</td>\n",
       "      <td>136.69719</td>\n",
       "      <td>137.90778</td>\n",
       "    </tr>\n",
       "  </tbody>\n",
       "</table>\n",
       "</div>"
      ],
      "text/plain": [
       "       KitchenSquare  LifeSquare      Square\n",
       "count    10000.00000 10000.00000 10000.00000\n",
       "mean         7.76570    35.80561    55.80298\n",
       "std          3.94819    14.00435    17.97825\n",
       "min          1.14257     6.35594    10.00000\n",
       "25%          5.93929    24.94390    41.77488\n",
       "50%          7.48700    33.16875    52.51304\n",
       "75%          9.00000    43.85929    65.77685\n",
       "max        123.00000   136.69719   137.90778"
      ]
     },
     "execution_count": 39,
     "metadata": {},
     "output_type": "execute_result"
    }
   ],
   "source": [
    "train_df[['KitchenSquare', 'LifeSquare', 'Square']].describe()"
   ]
  },
  {
   "cell_type": "markdown",
   "metadata": {},
   "source": [
    "**HouseFloor, Floor, Rooms**"
   ]
  },
  {
   "cell_type": "code",
   "execution_count": 40,
   "metadata": {
    "ExecuteTime": {
     "end_time": "2020-07-09T20:46:28.481856Z",
     "start_time": "2020-07-09T20:46:28.460632Z"
    }
   },
   "outputs": [],
   "source": [
    "# Заменим этажность дома 0 на медианное значение(для теста оставим медиану из трейна)\n",
    "train_df.loc[train_df['HouseFloor'] == 0, 'HouseFloor'] = train_df['HouseFloor'].median()\n",
    "test_df.loc[test_df['HouseFloor'] == 0, 'HouseFloor'] = train_df['HouseFloor'].median()\n",
    "\n",
    "# Если этаж квартиры больше этажа дома, то приравняем этаж квартиры и этаж дома\n",
    "train_df.loc[train_df['Floor'] > train_df['HouseFloor'], 'Floor'] = train_df['HouseFloor']\n",
    "test_df.loc[test_df['Floor'] > test_df['HouseFloor'], 'Floor'] = test_df['HouseFloor']"
   ]
  },
  {
   "cell_type": "code",
   "execution_count": 41,
   "metadata": {
    "ExecuteTime": {
     "end_time": "2020-07-09T20:46:28.498144Z",
     "start_time": "2020-07-09T20:46:28.484582Z"
    }
   },
   "outputs": [
    {
     "data": {
      "text/plain": [
       "2.00000     3880\n",
       "1.00000     3705\n",
       "3.00000     2235\n",
       "4.00000      150\n",
       "5.00000       18\n",
       "0.00000        8\n",
       "10.00000       2\n",
       "19.00000       1\n",
       "6.00000        1\n",
       "Name: Rooms, dtype: int64"
      ]
     },
     "execution_count": 41,
     "metadata": {},
     "output_type": "execute_result"
    }
   ],
   "source": [
    "train_df['Rooms'].value_counts()"
   ]
  },
  {
   "cell_type": "code",
   "execution_count": 42,
   "metadata": {
    "ExecuteTime": {
     "end_time": "2020-07-09T20:46:28.516036Z",
     "start_time": "2020-07-09T20:46:28.501666Z"
    }
   },
   "outputs": [
    {
     "data": {
      "text/plain": [
       "count   10000.00000\n",
       "mean        1.89050\n",
       "std         0.83951\n",
       "min         0.00000\n",
       "25%         1.00000\n",
       "50%         2.00000\n",
       "75%         2.00000\n",
       "max        19.00000\n",
       "Name: Rooms, dtype: float64"
      ]
     },
     "execution_count": 42,
     "metadata": {},
     "output_type": "execute_result"
    }
   ],
   "source": [
    "train_df['Rooms'].describe()"
   ]
  },
  {
   "cell_type": "code",
   "execution_count": 43,
   "metadata": {
    "ExecuteTime": {
     "end_time": "2020-07-09T20:46:28.543795Z",
     "start_time": "2020-07-09T20:46:28.519784Z"
    }
   },
   "outputs": [],
   "source": [
    "train_df.loc[train_df['Rooms'] < 1, 'Rooms'] = train_df['Rooms'].median()\n",
    "train_df.loc[train_df['Rooms'] > 10, 'Rooms'] = train_df['Rooms'].median()\n",
    "# для теста оставим медиану трейна\n",
    "test_df.loc[test_df['Rooms'] < 1, 'Rooms'] = train_df['Rooms'].median()\n",
    "test_df.loc[test_df['Rooms'] > 10, 'Rooms'] = train_df['Rooms'].median()"
   ]
  },
  {
   "cell_type": "markdown",
   "metadata": {},
   "source": [
    "### Dummy переменные"
   ]
  },
  {
   "cell_type": "code",
   "execution_count": 44,
   "metadata": {
    "ExecuteTime": {
     "end_time": "2020-07-09T20:46:28.578504Z",
     "start_time": "2020-07-09T20:46:28.546261Z"
    }
   },
   "outputs": [],
   "source": [
    "# трейн дс\n",
    "train_df['Ecology_2_bin'] = train_df['Ecology_2'].replace({'A':0, 'B':1})\n",
    "train_df['Ecology_3_bin'] = train_df['Ecology_3'].replace({'A':0, 'B':1})\n",
    "train_df['Shops_2_bin'] = train_df['Shops_2'].replace({'A':0, 'B':1})\n",
    "# тестовый дс\n",
    "test_df['Ecology_2_bin'] = test_df['Ecology_2'].replace({'A':0, 'B':1})\n",
    "test_df['Ecology_3_bin'] = test_df['Ecology_3'].replace({'A':0, 'B':1})\n",
    "test_df['Shops_2_bin'] = test_df['Shops_2'].replace({'A':0, 'B':1})"
   ]
  },
  {
   "cell_type": "code",
   "execution_count": 45,
   "metadata": {
    "ExecuteTime": {
     "end_time": "2020-07-09T20:46:28.605936Z",
     "start_time": "2020-07-09T20:46:28.580673Z"
    }
   },
   "outputs": [
    {
     "data": {
      "text/html": [
       "<div>\n",
       "<style scoped>\n",
       "    .dataframe tbody tr th:only-of-type {\n",
       "        vertical-align: middle;\n",
       "    }\n",
       "\n",
       "    .dataframe tbody tr th {\n",
       "        vertical-align: top;\n",
       "    }\n",
       "\n",
       "    .dataframe thead th {\n",
       "        text-align: right;\n",
       "    }\n",
       "</style>\n",
       "<table border=\"1\" class=\"dataframe\">\n",
       "  <thead>\n",
       "    <tr style=\"text-align: right;\">\n",
       "      <th></th>\n",
       "      <th>DistrictId</th>\n",
       "      <th>Rooms</th>\n",
       "      <th>Square</th>\n",
       "      <th>LifeSquare</th>\n",
       "      <th>KitchenSquare</th>\n",
       "      <th>Floor</th>\n",
       "      <th>HouseFloor</th>\n",
       "      <th>HouseYear</th>\n",
       "      <th>Ecology_1</th>\n",
       "      <th>Ecology_2</th>\n",
       "      <th>Ecology_3</th>\n",
       "      <th>Social_1</th>\n",
       "      <th>Social_2</th>\n",
       "      <th>Social_3</th>\n",
       "      <th>Helthcare_2</th>\n",
       "      <th>Shops_1</th>\n",
       "      <th>Shops_2</th>\n",
       "      <th>Price</th>\n",
       "      <th>Ecology_2_bin</th>\n",
       "      <th>Ecology_3_bin</th>\n",
       "      <th>Shops_2_bin</th>\n",
       "    </tr>\n",
       "    <tr>\n",
       "      <th>Id</th>\n",
       "      <th></th>\n",
       "      <th></th>\n",
       "      <th></th>\n",
       "      <th></th>\n",
       "      <th></th>\n",
       "      <th></th>\n",
       "      <th></th>\n",
       "      <th></th>\n",
       "      <th></th>\n",
       "      <th></th>\n",
       "      <th></th>\n",
       "      <th></th>\n",
       "      <th></th>\n",
       "      <th></th>\n",
       "      <th></th>\n",
       "      <th></th>\n",
       "      <th></th>\n",
       "      <th></th>\n",
       "      <th></th>\n",
       "      <th></th>\n",
       "      <th></th>\n",
       "    </tr>\n",
       "  </thead>\n",
       "  <tbody>\n",
       "    <tr>\n",
       "      <th>77</th>\n",
       "      <td>32</td>\n",
       "      <td>2.00000</td>\n",
       "      <td>50.40178</td>\n",
       "      <td>30.47620</td>\n",
       "      <td>5.00000</td>\n",
       "      <td>5.00000</td>\n",
       "      <td>5.00000</td>\n",
       "      <td>1968</td>\n",
       "      <td>0.13565</td>\n",
       "      <td>B</td>\n",
       "      <td>B</td>\n",
       "      <td>46</td>\n",
       "      <td>7960</td>\n",
       "      <td>6</td>\n",
       "      <td>3</td>\n",
       "      <td>11</td>\n",
       "      <td>B</td>\n",
       "      <td>196684.31604</td>\n",
       "      <td>1</td>\n",
       "      <td>1</td>\n",
       "      <td>1</td>\n",
       "    </tr>\n",
       "    <tr>\n",
       "      <th>6159</th>\n",
       "      <td>18</td>\n",
       "      <td>1.00000</td>\n",
       "      <td>41.52155</td>\n",
       "      <td>20.53922</td>\n",
       "      <td>9.00000</td>\n",
       "      <td>13.00000</td>\n",
       "      <td>13.00000</td>\n",
       "      <td>2000</td>\n",
       "      <td>0.00000</td>\n",
       "      <td>B</td>\n",
       "      <td>B</td>\n",
       "      <td>30</td>\n",
       "      <td>5562</td>\n",
       "      <td>0</td>\n",
       "      <td>0</td>\n",
       "      <td>5</td>\n",
       "      <td>A</td>\n",
       "      <td>189050.28957</td>\n",
       "      <td>1</td>\n",
       "      <td>1</td>\n",
       "      <td>0</td>\n",
       "    </tr>\n",
       "    <tr>\n",
       "      <th>5123</th>\n",
       "      <td>27</td>\n",
       "      <td>1.00000</td>\n",
       "      <td>47.93901</td>\n",
       "      <td>30.46975</td>\n",
       "      <td>5.47736</td>\n",
       "      <td>12.00000</td>\n",
       "      <td>16.00000</td>\n",
       "      <td>2015</td>\n",
       "      <td>0.07216</td>\n",
       "      <td>B</td>\n",
       "      <td>B</td>\n",
       "      <td>2</td>\n",
       "      <td>629</td>\n",
       "      <td>1</td>\n",
       "      <td>0</td>\n",
       "      <td>0</td>\n",
       "      <td>A</td>\n",
       "      <td>159143.80537</td>\n",
       "      <td>1</td>\n",
       "      <td>1</td>\n",
       "      <td>0</td>\n",
       "    </tr>\n",
       "    <tr>\n",
       "      <th>5400</th>\n",
       "      <td>75</td>\n",
       "      <td>2.00000</td>\n",
       "      <td>43.60256</td>\n",
       "      <td>33.84015</td>\n",
       "      <td>8.00000</td>\n",
       "      <td>1.00000</td>\n",
       "      <td>5.00000</td>\n",
       "      <td>1961</td>\n",
       "      <td>0.30747</td>\n",
       "      <td>B</td>\n",
       "      <td>A</td>\n",
       "      <td>30</td>\n",
       "      <td>5048</td>\n",
       "      <td>9</td>\n",
       "      <td>2</td>\n",
       "      <td>5</td>\n",
       "      <td>B</td>\n",
       "      <td>181595.33981</td>\n",
       "      <td>1</td>\n",
       "      <td>0</td>\n",
       "      <td>1</td>\n",
       "    </tr>\n",
       "    <tr>\n",
       "      <th>6306</th>\n",
       "      <td>128</td>\n",
       "      <td>1.00000</td>\n",
       "      <td>38.66664</td>\n",
       "      <td>21.15787</td>\n",
       "      <td>8.00000</td>\n",
       "      <td>7.00000</td>\n",
       "      <td>17.00000</td>\n",
       "      <td>1990</td>\n",
       "      <td>0.00000</td>\n",
       "      <td>B</td>\n",
       "      <td>B</td>\n",
       "      <td>27</td>\n",
       "      <td>4798</td>\n",
       "      <td>0</td>\n",
       "      <td>2</td>\n",
       "      <td>8</td>\n",
       "      <td>B</td>\n",
       "      <td>218714.07762</td>\n",
       "      <td>1</td>\n",
       "      <td>1</td>\n",
       "      <td>1</td>\n",
       "    </tr>\n",
       "  </tbody>\n",
       "</table>\n",
       "</div>"
      ],
      "text/plain": [
       "     DistrictId   Rooms   Square  LifeSquare  KitchenSquare    Floor  \\\n",
       "Id                                                                     \n",
       "77           32 2.00000 50.40178    30.47620        5.00000  5.00000   \n",
       "6159         18 1.00000 41.52155    20.53922        9.00000 13.00000   \n",
       "5123         27 1.00000 47.93901    30.46975        5.47736 12.00000   \n",
       "5400         75 2.00000 43.60256    33.84015        8.00000  1.00000   \n",
       "6306        128 1.00000 38.66664    21.15787        8.00000  7.00000   \n",
       "\n",
       "      HouseFloor  HouseYear  Ecology_1 Ecology_2 Ecology_3  Social_1  \\\n",
       "Id                                                                     \n",
       "77       5.00000       1968    0.13565         B         B        46   \n",
       "6159    13.00000       2000    0.00000         B         B        30   \n",
       "5123    16.00000       2015    0.07216         B         B         2   \n",
       "5400     5.00000       1961    0.30747         B         A        30   \n",
       "6306    17.00000       1990    0.00000         B         B        27   \n",
       "\n",
       "      Social_2  Social_3  Helthcare_2  Shops_1 Shops_2        Price  \\\n",
       "Id                                                                    \n",
       "77        7960         6            3       11       B 196684.31604   \n",
       "6159      5562         0            0        5       A 189050.28957   \n",
       "5123       629         1            0        0       A 159143.80537   \n",
       "5400      5048         9            2        5       B 181595.33981   \n",
       "6306      4798         0            2        8       B 218714.07762   \n",
       "\n",
       "      Ecology_2_bin  Ecology_3_bin  Shops_2_bin  \n",
       "Id                                               \n",
       "77                1              1            1  \n",
       "6159              1              1            0  \n",
       "5123              1              1            0  \n",
       "5400              1              0            1  \n",
       "6306              1              1            1  "
      ]
     },
     "execution_count": 45,
     "metadata": {},
     "output_type": "execute_result"
    }
   ],
   "source": [
    "train_df.tail()"
   ]
  },
  {
   "cell_type": "code",
   "execution_count": 46,
   "metadata": {
    "ExecuteTime": {
     "end_time": "2020-07-09T20:46:28.633952Z",
     "start_time": "2020-07-09T20:46:28.609468Z"
    }
   },
   "outputs": [
    {
     "data": {
      "text/html": [
       "<div>\n",
       "<style scoped>\n",
       "    .dataframe tbody tr th:only-of-type {\n",
       "        vertical-align: middle;\n",
       "    }\n",
       "\n",
       "    .dataframe tbody tr th {\n",
       "        vertical-align: top;\n",
       "    }\n",
       "\n",
       "    .dataframe thead th {\n",
       "        text-align: right;\n",
       "    }\n",
       "</style>\n",
       "<table border=\"1\" class=\"dataframe\">\n",
       "  <thead>\n",
       "    <tr style=\"text-align: right;\">\n",
       "      <th></th>\n",
       "      <th>Id</th>\n",
       "      <th>DistrictId</th>\n",
       "      <th>Rooms</th>\n",
       "      <th>Square</th>\n",
       "      <th>LifeSquare</th>\n",
       "      <th>KitchenSquare</th>\n",
       "      <th>Floor</th>\n",
       "      <th>HouseFloor</th>\n",
       "      <th>HouseYear</th>\n",
       "      <th>Ecology_1</th>\n",
       "      <th>Ecology_2</th>\n",
       "      <th>Ecology_3</th>\n",
       "      <th>Social_1</th>\n",
       "      <th>Social_2</th>\n",
       "      <th>Social_3</th>\n",
       "      <th>Helthcare_2</th>\n",
       "      <th>Shops_1</th>\n",
       "      <th>Shops_2</th>\n",
       "      <th>Ecology_2_bin</th>\n",
       "      <th>Ecology_3_bin</th>\n",
       "      <th>Shops_2_bin</th>\n",
       "    </tr>\n",
       "  </thead>\n",
       "  <tbody>\n",
       "    <tr>\n",
       "      <th>4995</th>\n",
       "      <td>8180</td>\n",
       "      <td>11</td>\n",
       "      <td>3.00000</td>\n",
       "      <td>67.13391</td>\n",
       "      <td>50.80980</td>\n",
       "      <td>6.00000</td>\n",
       "      <td>5.00000</td>\n",
       "      <td>9.00000</td>\n",
       "      <td>1973</td>\n",
       "      <td>0.00017</td>\n",
       "      <td>B</td>\n",
       "      <td>B</td>\n",
       "      <td>36</td>\n",
       "      <td>5992</td>\n",
       "      <td>0</td>\n",
       "      <td>1</td>\n",
       "      <td>1</td>\n",
       "      <td>B</td>\n",
       "      <td>1</td>\n",
       "      <td>1</td>\n",
       "      <td>1</td>\n",
       "    </tr>\n",
       "    <tr>\n",
       "      <th>4996</th>\n",
       "      <td>4695</td>\n",
       "      <td>1</td>\n",
       "      <td>1.00000</td>\n",
       "      <td>40.19847</td>\n",
       "      <td>21.80706</td>\n",
       "      <td>10.00000</td>\n",
       "      <td>12.00000</td>\n",
       "      <td>17.00000</td>\n",
       "      <td>2017</td>\n",
       "      <td>0.00712</td>\n",
       "      <td>B</td>\n",
       "      <td>B</td>\n",
       "      <td>1</td>\n",
       "      <td>264</td>\n",
       "      <td>0</td>\n",
       "      <td>0</td>\n",
       "      <td>1</td>\n",
       "      <td>B</td>\n",
       "      <td>1</td>\n",
       "      <td>1</td>\n",
       "      <td>1</td>\n",
       "    </tr>\n",
       "    <tr>\n",
       "      <th>4997</th>\n",
       "      <td>5783</td>\n",
       "      <td>12</td>\n",
       "      <td>3.00000</td>\n",
       "      <td>77.84218</td>\n",
       "      <td>48.28263</td>\n",
       "      <td>9.00000</td>\n",
       "      <td>22.00000</td>\n",
       "      <td>22.00000</td>\n",
       "      <td>1989</td>\n",
       "      <td>0.09080</td>\n",
       "      <td>B</td>\n",
       "      <td>B</td>\n",
       "      <td>74</td>\n",
       "      <td>19083</td>\n",
       "      <td>2</td>\n",
       "      <td>5</td>\n",
       "      <td>15</td>\n",
       "      <td>B</td>\n",
       "      <td>1</td>\n",
       "      <td>1</td>\n",
       "      <td>1</td>\n",
       "    </tr>\n",
       "    <tr>\n",
       "      <th>4998</th>\n",
       "      <td>4780</td>\n",
       "      <td>62</td>\n",
       "      <td>2.00000</td>\n",
       "      <td>81.30522</td>\n",
       "      <td>51.67712</td>\n",
       "      <td>9.28967</td>\n",
       "      <td>4.00000</td>\n",
       "      <td>13.00000</td>\n",
       "      <td>1977</td>\n",
       "      <td>0.07216</td>\n",
       "      <td>B</td>\n",
       "      <td>B</td>\n",
       "      <td>2</td>\n",
       "      <td>629</td>\n",
       "      <td>1</td>\n",
       "      <td>0</td>\n",
       "      <td>0</td>\n",
       "      <td>A</td>\n",
       "      <td>1</td>\n",
       "      <td>1</td>\n",
       "      <td>0</td>\n",
       "    </tr>\n",
       "    <tr>\n",
       "      <th>4999</th>\n",
       "      <td>12504</td>\n",
       "      <td>30</td>\n",
       "      <td>2.00000</td>\n",
       "      <td>60.55569</td>\n",
       "      <td>38.48884</td>\n",
       "      <td>6.91890</td>\n",
       "      <td>10.00000</td>\n",
       "      <td>17.00000</td>\n",
       "      <td>1977</td>\n",
       "      <td>0.00008</td>\n",
       "      <td>B</td>\n",
       "      <td>B</td>\n",
       "      <td>22</td>\n",
       "      <td>6398</td>\n",
       "      <td>141</td>\n",
       "      <td>3</td>\n",
       "      <td>23</td>\n",
       "      <td>B</td>\n",
       "      <td>1</td>\n",
       "      <td>1</td>\n",
       "      <td>1</td>\n",
       "    </tr>\n",
       "  </tbody>\n",
       "</table>\n",
       "</div>"
      ],
      "text/plain": [
       "         Id DistrictId   Rooms   Square  LifeSquare  KitchenSquare    Floor  \\\n",
       "4995   8180         11 3.00000 67.13391    50.80980        6.00000  5.00000   \n",
       "4996   4695          1 1.00000 40.19847    21.80706       10.00000 12.00000   \n",
       "4997   5783         12 3.00000 77.84218    48.28263        9.00000 22.00000   \n",
       "4998   4780         62 2.00000 81.30522    51.67712        9.28967  4.00000   \n",
       "4999  12504         30 2.00000 60.55569    38.48884        6.91890 10.00000   \n",
       "\n",
       "      HouseFloor  HouseYear  Ecology_1 Ecology_2 Ecology_3  Social_1  \\\n",
       "4995     9.00000       1973    0.00017         B         B        36   \n",
       "4996    17.00000       2017    0.00712         B         B         1   \n",
       "4997    22.00000       1989    0.09080         B         B        74   \n",
       "4998    13.00000       1977    0.07216         B         B         2   \n",
       "4999    17.00000       1977    0.00008         B         B        22   \n",
       "\n",
       "      Social_2  Social_3  Helthcare_2  Shops_1 Shops_2  Ecology_2_bin  \\\n",
       "4995      5992         0            1        1       B              1   \n",
       "4996       264         0            0        1       B              1   \n",
       "4997     19083         2            5       15       B              1   \n",
       "4998       629         1            0        0       A              1   \n",
       "4999      6398       141            3       23       B              1   \n",
       "\n",
       "      Ecology_3_bin  Shops_2_bin  \n",
       "4995              1            1  \n",
       "4996              1            1  \n",
       "4997              1            1  \n",
       "4998              1            0  \n",
       "4999              1            1  "
      ]
     },
     "execution_count": 46,
     "metadata": {},
     "output_type": "execute_result"
    }
   ],
   "source": [
    "test_df.tail()"
   ]
  },
  {
   "cell_type": "code",
   "execution_count": 47,
   "metadata": {
    "ExecuteTime": {
     "end_time": "2020-07-09T20:46:28.646506Z",
     "start_time": "2020-07-09T20:46:28.637884Z"
    }
   },
   "outputs": [
    {
     "data": {
      "text/plain": [
       "['DistrictId',\n",
       " 'Rooms',\n",
       " 'Square',\n",
       " 'LifeSquare',\n",
       " 'KitchenSquare',\n",
       " 'Floor',\n",
       " 'HouseFloor',\n",
       " 'HouseYear',\n",
       " 'Ecology_1',\n",
       " 'Ecology_2',\n",
       " 'Ecology_3',\n",
       " 'Social_1',\n",
       " 'Social_2',\n",
       " 'Social_3',\n",
       " 'Helthcare_2',\n",
       " 'Shops_1',\n",
       " 'Shops_2',\n",
       " 'Price',\n",
       " 'Ecology_2_bin',\n",
       " 'Ecology_3_bin',\n",
       " 'Shops_2_bin']"
      ]
     },
     "execution_count": 47,
     "metadata": {},
     "output_type": "execute_result"
    }
   ],
   "source": [
    "train_df.columns.tolist()"
   ]
  },
  {
   "cell_type": "code",
   "execution_count": 48,
   "metadata": {
    "ExecuteTime": {
     "end_time": "2020-07-09T20:46:28.656232Z",
     "start_time": "2020-07-09T20:46:28.649658Z"
    }
   },
   "outputs": [],
   "source": [
    "feature_names = ['Rooms', 'Square', 'LifeSquare', 'KitchenSquare', 'Floor', 'HouseFloor', 'HouseYear',\n",
    "                 'Ecology_1', 'Ecology_2_bin', 'Ecology_3_bin','Social_1','Social_2', 'Social_3',\n",
    "                 'Helthcare_2', 'Shops_1', 'Shops_2_bin']\n",
    "target_name = 'Price'"
   ]
  },
  {
   "cell_type": "code",
   "execution_count": 49,
   "metadata": {
    "ExecuteTime": {
     "end_time": "2020-07-09T20:46:28.671796Z",
     "start_time": "2020-07-09T20:46:28.661375Z"
    }
   },
   "outputs": [],
   "source": [
    "X = train_df[feature_names]\n",
    "y = train_df[target_name]"
   ]
  },
  {
   "cell_type": "code",
   "execution_count": 50,
   "metadata": {
    "ExecuteTime": {
     "end_time": "2020-07-09T20:46:29.930270Z",
     "start_time": "2020-07-09T20:46:28.675583Z"
    }
   },
   "outputs": [
    {
     "data": {
      "image/png": "[encoded data removed]",
      "text/plain": [
       "<Figure size 1440x1080 with 2 Axes>"
      ]
     },
     "metadata": {
      "needs_background": "light"
     },
     "output_type": "display_data"
    }
   ],
   "source": [
    "plt.figure(figsize = (20,15))\n",
    "\n",
    "corr = train_df[feature_names + list(target_name.split(' '))].corr()\n",
    "mask = np.triu(np.ones_like(corr, dtype=np.bool))\n",
    "\n",
    "sns.set(font_scale=1.4)\n",
    "sns.heatmap(\n",
    "    data=corr,\n",
    "    mask=mask,\n",
    "    annot=True\n",
    ")\n",
    "\n",
    "plt.title('Correlation matrix')\n",
    "plt.show()"
   ]
  },
  {
   "cell_type": "code",
   "execution_count": 51,
   "metadata": {
    "ExecuteTime": {
     "end_time": "2020-07-09T20:46:29.943849Z",
     "start_time": "2020-07-09T20:46:29.932323Z"
    }
   },
   "outputs": [],
   "source": [
    "X_train, X_val, y_train, y_val = train_test_split(X, y, test_size=0.3, shuffle=True, random_state=21)"
   ]
  },
  {
   "cell_type": "code",
   "execution_count": 52,
   "metadata": {
    "ExecuteTime": {
     "end_time": "2020-07-09T20:46:29.970488Z",
     "start_time": "2020-07-09T20:46:29.948117Z"
    }
   },
   "outputs": [
    {
     "data": {
      "text/html": [
       "<div>\n",
       "<style scoped>\n",
       "    .dataframe tbody tr th:only-of-type {\n",
       "        vertical-align: middle;\n",
       "    }\n",
       "\n",
       "    .dataframe tbody tr th {\n",
       "        vertical-align: top;\n",
       "    }\n",
       "\n",
       "    .dataframe thead th {\n",
       "        text-align: right;\n",
       "    }\n",
       "</style>\n",
       "<table border=\"1\" class=\"dataframe\">\n",
       "  <thead>\n",
       "    <tr style=\"text-align: right;\">\n",
       "      <th></th>\n",
       "      <th>Rooms</th>\n",
       "      <th>Square</th>\n",
       "      <th>LifeSquare</th>\n",
       "      <th>KitchenSquare</th>\n",
       "      <th>Floor</th>\n",
       "      <th>HouseFloor</th>\n",
       "      <th>HouseYear</th>\n",
       "      <th>Ecology_1</th>\n",
       "      <th>Ecology_2_bin</th>\n",
       "      <th>Ecology_3_bin</th>\n",
       "      <th>Social_1</th>\n",
       "      <th>Social_2</th>\n",
       "      <th>Social_3</th>\n",
       "      <th>Helthcare_2</th>\n",
       "      <th>Shops_1</th>\n",
       "      <th>Shops_2_bin</th>\n",
       "    </tr>\n",
       "    <tr>\n",
       "      <th>Id</th>\n",
       "      <th></th>\n",
       "      <th></th>\n",
       "      <th></th>\n",
       "      <th></th>\n",
       "      <th></th>\n",
       "      <th></th>\n",
       "      <th></th>\n",
       "      <th></th>\n",
       "      <th></th>\n",
       "      <th></th>\n",
       "      <th></th>\n",
       "      <th></th>\n",
       "      <th></th>\n",
       "      <th></th>\n",
       "      <th></th>\n",
       "      <th></th>\n",
       "    </tr>\n",
       "  </thead>\n",
       "  <tbody>\n",
       "    <tr>\n",
       "      <th>6225</th>\n",
       "      <td>1.00000</td>\n",
       "      <td>39.83774</td>\n",
       "      <td>23.28137</td>\n",
       "      <td>7.00000</td>\n",
       "      <td>13.00000</td>\n",
       "      <td>17.00000</td>\n",
       "      <td>2010</td>\n",
       "      <td>0.00766</td>\n",
       "      <td>1</td>\n",
       "      <td>1</td>\n",
       "      <td>35</td>\n",
       "      <td>7077</td>\n",
       "      <td>56</td>\n",
       "      <td>3</td>\n",
       "      <td>19</td>\n",
       "      <td>1</td>\n",
       "    </tr>\n",
       "    <tr>\n",
       "      <th>12927</th>\n",
       "      <td>2.00000</td>\n",
       "      <td>17.41418</td>\n",
       "      <td>11.06835</td>\n",
       "      <td>1.98969</td>\n",
       "      <td>4.00000</td>\n",
       "      <td>20.00000</td>\n",
       "      <td>1977</td>\n",
       "      <td>0.07216</td>\n",
       "      <td>1</td>\n",
       "      <td>1</td>\n",
       "      <td>2</td>\n",
       "      <td>629</td>\n",
       "      <td>1</td>\n",
       "      <td>0</td>\n",
       "      <td>0</td>\n",
       "      <td>0</td>\n",
       "    </tr>\n",
       "    <tr>\n",
       "      <th>13125</th>\n",
       "      <td>1.00000</td>\n",
       "      <td>44.84656</td>\n",
       "      <td>21.58987</td>\n",
       "      <td>8.00000</td>\n",
       "      <td>3.00000</td>\n",
       "      <td>14.00000</td>\n",
       "      <td>2004</td>\n",
       "      <td>0.00000</td>\n",
       "      <td>1</td>\n",
       "      <td>1</td>\n",
       "      <td>36</td>\n",
       "      <td>6714</td>\n",
       "      <td>2</td>\n",
       "      <td>0</td>\n",
       "      <td>2</td>\n",
       "      <td>1</td>\n",
       "    </tr>\n",
       "    <tr>\n",
       "      <th>12282</th>\n",
       "      <td>2.00000</td>\n",
       "      <td>52.44986</td>\n",
       "      <td>27.14581</td>\n",
       "      <td>7.00000</td>\n",
       "      <td>3.00000</td>\n",
       "      <td>5.00000</td>\n",
       "      <td>1953</td>\n",
       "      <td>0.16909</td>\n",
       "      <td>1</td>\n",
       "      <td>1</td>\n",
       "      <td>19</td>\n",
       "      <td>3856</td>\n",
       "      <td>10</td>\n",
       "      <td>2</td>\n",
       "      <td>5</td>\n",
       "      <td>1</td>\n",
       "    </tr>\n",
       "    <tr>\n",
       "      <th>1214</th>\n",
       "      <td>3.00000</td>\n",
       "      <td>65.52154</td>\n",
       "      <td>39.97374</td>\n",
       "      <td>8.00000</td>\n",
       "      <td>5.00000</td>\n",
       "      <td>9.00000</td>\n",
       "      <td>1976</td>\n",
       "      <td>0.16909</td>\n",
       "      <td>1</td>\n",
       "      <td>1</td>\n",
       "      <td>19</td>\n",
       "      <td>3856</td>\n",
       "      <td>10</td>\n",
       "      <td>2</td>\n",
       "      <td>5</td>\n",
       "      <td>1</td>\n",
       "    </tr>\n",
       "  </tbody>\n",
       "</table>\n",
       "</div>"
      ],
      "text/plain": [
       "        Rooms   Square  LifeSquare  KitchenSquare    Floor  HouseFloor  \\\n",
       "Id                                                                       \n",
       "6225  1.00000 39.83774    23.28137        7.00000 13.00000    17.00000   \n",
       "12927 2.00000 17.41418    11.06835        1.98969  4.00000    20.00000   \n",
       "13125 1.00000 44.84656    21.58987        8.00000  3.00000    14.00000   \n",
       "12282 2.00000 52.44986    27.14581        7.00000  3.00000     5.00000   \n",
       "1214  3.00000 65.52154    39.97374        8.00000  5.00000     9.00000   \n",
       "\n",
       "       HouseYear  Ecology_1  Ecology_2_bin  Ecology_3_bin  Social_1  Social_2  \\\n",
       "Id                                                                              \n",
       "6225        2010    0.00766              1              1        35      7077   \n",
       "12927       1977    0.07216              1              1         2       629   \n",
       "13125       2004    0.00000              1              1        36      6714   \n",
       "12282       1953    0.16909              1              1        19      3856   \n",
       "1214        1976    0.16909              1              1        19      3856   \n",
       "\n",
       "       Social_3  Helthcare_2  Shops_1  Shops_2_bin  \n",
       "Id                                                  \n",
       "6225         56            3       19            1  \n",
       "12927         1            0        0            0  \n",
       "13125         2            0        2            1  \n",
       "12282        10            2        5            1  \n",
       "1214         10            2        5            1  "
      ]
     },
     "execution_count": 52,
     "metadata": {},
     "output_type": "execute_result"
    }
   ],
   "source": [
    "X_train.head()"
   ]
  },
  {
   "cell_type": "code",
   "execution_count": 53,
   "metadata": {
    "ExecuteTime": {
     "end_time": "2020-07-09T20:46:29.981695Z",
     "start_time": "2020-07-09T20:46:29.974212Z"
    }
   },
   "outputs": [
    {
     "data": {
      "text/plain": [
       "(7000, 16)"
      ]
     },
     "execution_count": 53,
     "metadata": {},
     "output_type": "execute_result"
    }
   ],
   "source": [
    "X_train.shape"
   ]
  },
  {
   "cell_type": "code",
   "execution_count": 54,
   "metadata": {
    "ExecuteTime": {
     "end_time": "2020-07-09T20:46:33.551502Z",
     "start_time": "2020-07-09T20:46:29.985668Z"
    }
   },
   "outputs": [
    {
     "data": {
      "text/plain": [
       "RandomForestRegressor(bootstrap=True, ccp_alpha=0.0, criterion='mse',\n",
       "                      max_depth=None, max_features='auto', max_leaf_nodes=None,\n",
       "                      max_samples=None, min_impurity_decrease=0.0,\n",
       "                      min_impurity_split=None, min_samples_leaf=1,\n",
       "                      min_samples_split=2, min_weight_fraction_leaf=0.0,\n",
       "                      n_estimators=100, n_jobs=None, oob_score=False,\n",
       "                      random_state=21, verbose=0, warm_start=False)"
      ]
     },
     "execution_count": 54,
     "metadata": {},
     "output_type": "execute_result"
    }
   ],
   "source": [
    "rf_model = RandomForestRegressor(random_state=21)\n",
    "rf_model.fit(X_train, y_train)"
   ]
  },
  {
   "cell_type": "code",
   "execution_count": 55,
   "metadata": {
    "ExecuteTime": {
     "end_time": "2020-07-09T20:46:33.642745Z",
     "start_time": "2020-07-09T20:46:33.554512Z"
    },
    "scrolled": false
   },
   "outputs": [
    {
     "data": {
      "text/plain": [
       "0.7165670841082692"
      ]
     },
     "execution_count": 55,
     "metadata": {},
     "output_type": "execute_result"
    }
   ],
   "source": [
    "y_pred_train = rf_model.predict(X=X_val)\n",
    "\n",
    "r2_score(\n",
    "    y_true=y_val,\n",
    "    y_pred=y_pred_train\n",
    ")"
   ]
  },
  {
   "cell_type": "code",
   "execution_count": 56,
   "metadata": {
    "ExecuteTime": {
     "end_time": "2020-07-09T20:46:53.600740Z",
     "start_time": "2020-07-09T20:46:33.645537Z"
    }
   },
   "outputs": [
    {
     "data": {
      "text/plain": [
       "array([0.73996306, 0.69474933, 0.724468  , 0.72688121, 0.71478969])"
      ]
     },
     "execution_count": 56,
     "metadata": {},
     "output_type": "execute_result"
    }
   ],
   "source": [
    "cv_score = cross_val_score(rf_model, X, y, scoring='r2', cv=KFold(n_splits=5, shuffle=True, random_state=21))\n",
    "cv_score"
   ]
  },
  {
   "cell_type": "code",
   "execution_count": 57,
   "metadata": {
    "ExecuteTime": {
     "end_time": "2020-07-09T20:46:53.615933Z",
     "start_time": "2020-07-09T20:46:53.607369Z"
    }
   },
   "outputs": [
    {
     "data": {
      "text/plain": [
       "0.7201702578501996"
      ]
     },
     "execution_count": 57,
     "metadata": {},
     "output_type": "execute_result"
    }
   ],
   "source": [
    "cv_score.mean()"
   ]
  },
  {
   "cell_type": "markdown",
   "metadata": {},
   "source": [
    "**Важность признаков**"
   ]
  },
  {
   "cell_type": "code",
   "execution_count": 58,
   "metadata": {
    "ExecuteTime": {
     "end_time": "2020-07-09T20:46:53.654954Z",
     "start_time": "2020-07-09T20:46:53.619362Z"
    }
   },
   "outputs": [
    {
     "data": {
      "text/html": [
       "<div>\n",
       "<style scoped>\n",
       "    .dataframe tbody tr th:only-of-type {\n",
       "        vertical-align: middle;\n",
       "    }\n",
       "\n",
       "    .dataframe tbody tr th {\n",
       "        vertical-align: top;\n",
       "    }\n",
       "\n",
       "    .dataframe thead th {\n",
       "        text-align: right;\n",
       "    }\n",
       "</style>\n",
       "<table border=\"1\" class=\"dataframe\">\n",
       "  <thead>\n",
       "    <tr style=\"text-align: right;\">\n",
       "      <th></th>\n",
       "      <th>feature_name</th>\n",
       "      <th>importance</th>\n",
       "    </tr>\n",
       "  </thead>\n",
       "  <tbody>\n",
       "    <tr>\n",
       "      <th>1</th>\n",
       "      <td>Square</td>\n",
       "      <td>0.39008</td>\n",
       "    </tr>\n",
       "    <tr>\n",
       "      <th>10</th>\n",
       "      <td>Social_1</td>\n",
       "      <td>0.10404</td>\n",
       "    </tr>\n",
       "    <tr>\n",
       "      <th>11</th>\n",
       "      <td>Social_2</td>\n",
       "      <td>0.09178</td>\n",
       "    </tr>\n",
       "    <tr>\n",
       "      <th>0</th>\n",
       "      <td>Rooms</td>\n",
       "      <td>0.08686</td>\n",
       "    </tr>\n",
       "    <tr>\n",
       "      <th>12</th>\n",
       "      <td>Social_3</td>\n",
       "      <td>0.06131</td>\n",
       "    </tr>\n",
       "    <tr>\n",
       "      <th>7</th>\n",
       "      <td>Ecology_1</td>\n",
       "      <td>0.05285</td>\n",
       "    </tr>\n",
       "    <tr>\n",
       "      <th>6</th>\n",
       "      <td>HouseYear</td>\n",
       "      <td>0.04677</td>\n",
       "    </tr>\n",
       "    <tr>\n",
       "      <th>2</th>\n",
       "      <td>LifeSquare</td>\n",
       "      <td>0.04055</td>\n",
       "    </tr>\n",
       "    <tr>\n",
       "      <th>3</th>\n",
       "      <td>KitchenSquare</td>\n",
       "      <td>0.03301</td>\n",
       "    </tr>\n",
       "    <tr>\n",
       "      <th>5</th>\n",
       "      <td>HouseFloor</td>\n",
       "      <td>0.02791</td>\n",
       "    </tr>\n",
       "    <tr>\n",
       "      <th>4</th>\n",
       "      <td>Floor</td>\n",
       "      <td>0.02767</td>\n",
       "    </tr>\n",
       "    <tr>\n",
       "      <th>14</th>\n",
       "      <td>Shops_1</td>\n",
       "      <td>0.02334</td>\n",
       "    </tr>\n",
       "    <tr>\n",
       "      <th>13</th>\n",
       "      <td>Helthcare_2</td>\n",
       "      <td>0.01082</td>\n",
       "    </tr>\n",
       "    <tr>\n",
       "      <th>8</th>\n",
       "      <td>Ecology_2_bin</td>\n",
       "      <td>0.00111</td>\n",
       "    </tr>\n",
       "    <tr>\n",
       "      <th>9</th>\n",
       "      <td>Ecology_3_bin</td>\n",
       "      <td>0.00099</td>\n",
       "    </tr>\n",
       "    <tr>\n",
       "      <th>15</th>\n",
       "      <td>Shops_2_bin</td>\n",
       "      <td>0.00091</td>\n",
       "    </tr>\n",
       "  </tbody>\n",
       "</table>\n",
       "</div>"
      ],
      "text/plain": [
       "     feature_name  importance\n",
       "1          Square     0.39008\n",
       "10       Social_1     0.10404\n",
       "11       Social_2     0.09178\n",
       "0           Rooms     0.08686\n",
       "12       Social_3     0.06131\n",
       "7       Ecology_1     0.05285\n",
       "6       HouseYear     0.04677\n",
       "2      LifeSquare     0.04055\n",
       "3   KitchenSquare     0.03301\n",
       "5      HouseFloor     0.02791\n",
       "4           Floor     0.02767\n",
       "14        Shops_1     0.02334\n",
       "13    Helthcare_2     0.01082\n",
       "8   Ecology_2_bin     0.00111\n",
       "9   Ecology_3_bin     0.00099\n",
       "15    Shops_2_bin     0.00091"
      ]
     },
     "execution_count": 58,
     "metadata": {},
     "output_type": "execute_result"
    }
   ],
   "source": [
    "feature_importances = pd.DataFrame(zip(X_train.columns, rf_model.feature_importances_), \n",
    "                                   columns=['feature_name', 'importance'])\n",
    "\n",
    "feature_importances.sort_values(by='importance', ascending=False)"
   ]
  },
  {
   "cell_type": "markdown",
   "metadata": {
    "ExecuteTime": {
     "end_time": "2020-07-06T22:09:32.210127Z",
     "start_time": "2020-07-06T22:09:32.174315Z"
    }
   },
   "source": [
    "### Предсказание на тестовом датасете"
   ]
  },
  {
   "cell_type": "code",
   "execution_count": 59,
   "metadata": {
    "ExecuteTime": {
     "end_time": "2020-07-09T20:46:53.772284Z",
     "start_time": "2020-07-09T20:46:53.657733Z"
    }
   },
   "outputs": [],
   "source": [
    "y_pred_test = rf_model.predict(\n",
    "    X=test_df[feature_names]\n",
    ")"
   ]
  },
  {
   "cell_type": "code",
   "execution_count": 60,
   "metadata": {
    "ExecuteTime": {
     "end_time": "2020-07-09T20:46:53.801532Z",
     "start_time": "2020-07-09T20:46:53.774369Z"
    }
   },
   "outputs": [
    {
     "data": {
      "text/html": [
       "<div>\n",
       "<style scoped>\n",
       "    .dataframe tbody tr th:only-of-type {\n",
       "        vertical-align: middle;\n",
       "    }\n",
       "\n",
       "    .dataframe tbody tr th {\n",
       "        vertical-align: top;\n",
       "    }\n",
       "\n",
       "    .dataframe thead th {\n",
       "        text-align: right;\n",
       "    }\n",
       "</style>\n",
       "<table border=\"1\" class=\"dataframe\">\n",
       "  <thead>\n",
       "    <tr style=\"text-align: right;\">\n",
       "      <th></th>\n",
       "      <th>Rooms</th>\n",
       "      <th>Square</th>\n",
       "      <th>LifeSquare</th>\n",
       "      <th>KitchenSquare</th>\n",
       "      <th>Floor</th>\n",
       "      <th>HouseFloor</th>\n",
       "      <th>HouseYear</th>\n",
       "      <th>Ecology_1</th>\n",
       "      <th>Ecology_2_bin</th>\n",
       "      <th>Ecology_3_bin</th>\n",
       "      <th>Social_1</th>\n",
       "      <th>Social_2</th>\n",
       "      <th>Social_3</th>\n",
       "      <th>Helthcare_2</th>\n",
       "      <th>Shops_1</th>\n",
       "      <th>Shops_2_bin</th>\n",
       "    </tr>\n",
       "  </thead>\n",
       "  <tbody>\n",
       "    <tr>\n",
       "      <th>0</th>\n",
       "      <td>2.00000</td>\n",
       "      <td>49.88264</td>\n",
       "      <td>33.43278</td>\n",
       "      <td>6.00000</td>\n",
       "      <td>6.00000</td>\n",
       "      <td>14.00000</td>\n",
       "      <td>1972</td>\n",
       "      <td>0.31020</td>\n",
       "      <td>1</td>\n",
       "      <td>1</td>\n",
       "      <td>11</td>\n",
       "      <td>2748</td>\n",
       "      <td>1</td>\n",
       "      <td>0</td>\n",
       "      <td>0</td>\n",
       "      <td>1</td>\n",
       "    </tr>\n",
       "    <tr>\n",
       "      <th>1</th>\n",
       "      <td>2.00000</td>\n",
       "      <td>69.26318</td>\n",
       "      <td>44.02327</td>\n",
       "      <td>7.91379</td>\n",
       "      <td>1.00000</td>\n",
       "      <td>1.00000</td>\n",
       "      <td>1977</td>\n",
       "      <td>0.07578</td>\n",
       "      <td>1</td>\n",
       "      <td>1</td>\n",
       "      <td>6</td>\n",
       "      <td>1437</td>\n",
       "      <td>3</td>\n",
       "      <td>0</td>\n",
       "      <td>2</td>\n",
       "      <td>1</td>\n",
       "    </tr>\n",
       "    <tr>\n",
       "      <th>2</th>\n",
       "      <td>1.00000</td>\n",
       "      <td>13.59782</td>\n",
       "      <td>8.64269</td>\n",
       "      <td>12.00000</td>\n",
       "      <td>2.00000</td>\n",
       "      <td>5.00000</td>\n",
       "      <td>1909</td>\n",
       "      <td>0.00000</td>\n",
       "      <td>1</td>\n",
       "      <td>1</td>\n",
       "      <td>30</td>\n",
       "      <td>7538</td>\n",
       "      <td>87</td>\n",
       "      <td>5</td>\n",
       "      <td>5</td>\n",
       "      <td>1</td>\n",
       "    </tr>\n",
       "    <tr>\n",
       "      <th>3</th>\n",
       "      <td>2.00000</td>\n",
       "      <td>73.04661</td>\n",
       "      <td>51.94084</td>\n",
       "      <td>9.00000</td>\n",
       "      <td>22.00000</td>\n",
       "      <td>22.00000</td>\n",
       "      <td>2007</td>\n",
       "      <td>0.10187</td>\n",
       "      <td>1</td>\n",
       "      <td>1</td>\n",
       "      <td>23</td>\n",
       "      <td>4583</td>\n",
       "      <td>3</td>\n",
       "      <td>3</td>\n",
       "      <td>3</td>\n",
       "      <td>1</td>\n",
       "    </tr>\n",
       "    <tr>\n",
       "      <th>4</th>\n",
       "      <td>1.00000</td>\n",
       "      <td>47.52711</td>\n",
       "      <td>43.38757</td>\n",
       "      <td>5.43029</td>\n",
       "      <td>17.00000</td>\n",
       "      <td>17.00000</td>\n",
       "      <td>2017</td>\n",
       "      <td>0.07216</td>\n",
       "      <td>1</td>\n",
       "      <td>1</td>\n",
       "      <td>2</td>\n",
       "      <td>629</td>\n",
       "      <td>1</td>\n",
       "      <td>0</td>\n",
       "      <td>0</td>\n",
       "      <td>0</td>\n",
       "    </tr>\n",
       "    <tr>\n",
       "      <th>...</th>\n",
       "      <td>...</td>\n",
       "      <td>...</td>\n",
       "      <td>...</td>\n",
       "      <td>...</td>\n",
       "      <td>...</td>\n",
       "      <td>...</td>\n",
       "      <td>...</td>\n",
       "      <td>...</td>\n",
       "      <td>...</td>\n",
       "      <td>...</td>\n",
       "      <td>...</td>\n",
       "      <td>...</td>\n",
       "      <td>...</td>\n",
       "      <td>...</td>\n",
       "      <td>...</td>\n",
       "      <td>...</td>\n",
       "    </tr>\n",
       "    <tr>\n",
       "      <th>4995</th>\n",
       "      <td>3.00000</td>\n",
       "      <td>67.13391</td>\n",
       "      <td>50.80980</td>\n",
       "      <td>6.00000</td>\n",
       "      <td>5.00000</td>\n",
       "      <td>9.00000</td>\n",
       "      <td>1973</td>\n",
       "      <td>0.00017</td>\n",
       "      <td>1</td>\n",
       "      <td>1</td>\n",
       "      <td>36</td>\n",
       "      <td>5992</td>\n",
       "      <td>0</td>\n",
       "      <td>1</td>\n",
       "      <td>1</td>\n",
       "      <td>1</td>\n",
       "    </tr>\n",
       "    <tr>\n",
       "      <th>4996</th>\n",
       "      <td>1.00000</td>\n",
       "      <td>40.19847</td>\n",
       "      <td>21.80706</td>\n",
       "      <td>10.00000</td>\n",
       "      <td>12.00000</td>\n",
       "      <td>17.00000</td>\n",
       "      <td>2017</td>\n",
       "      <td>0.00712</td>\n",
       "      <td>1</td>\n",
       "      <td>1</td>\n",
       "      <td>1</td>\n",
       "      <td>264</td>\n",
       "      <td>0</td>\n",
       "      <td>0</td>\n",
       "      <td>1</td>\n",
       "      <td>1</td>\n",
       "    </tr>\n",
       "    <tr>\n",
       "      <th>4997</th>\n",
       "      <td>3.00000</td>\n",
       "      <td>77.84218</td>\n",
       "      <td>48.28263</td>\n",
       "      <td>9.00000</td>\n",
       "      <td>22.00000</td>\n",
       "      <td>22.00000</td>\n",
       "      <td>1989</td>\n",
       "      <td>0.09080</td>\n",
       "      <td>1</td>\n",
       "      <td>1</td>\n",
       "      <td>74</td>\n",
       "      <td>19083</td>\n",
       "      <td>2</td>\n",
       "      <td>5</td>\n",
       "      <td>15</td>\n",
       "      <td>1</td>\n",
       "    </tr>\n",
       "    <tr>\n",
       "      <th>4998</th>\n",
       "      <td>2.00000</td>\n",
       "      <td>81.30522</td>\n",
       "      <td>51.67712</td>\n",
       "      <td>9.28967</td>\n",
       "      <td>4.00000</td>\n",
       "      <td>13.00000</td>\n",
       "      <td>1977</td>\n",
       "      <td>0.07216</td>\n",
       "      <td>1</td>\n",
       "      <td>1</td>\n",
       "      <td>2</td>\n",
       "      <td>629</td>\n",
       "      <td>1</td>\n",
       "      <td>0</td>\n",
       "      <td>0</td>\n",
       "      <td>0</td>\n",
       "    </tr>\n",
       "    <tr>\n",
       "      <th>4999</th>\n",
       "      <td>2.00000</td>\n",
       "      <td>60.55569</td>\n",
       "      <td>38.48884</td>\n",
       "      <td>6.91890</td>\n",
       "      <td>10.00000</td>\n",
       "      <td>17.00000</td>\n",
       "      <td>1977</td>\n",
       "      <td>0.00008</td>\n",
       "      <td>1</td>\n",
       "      <td>1</td>\n",
       "      <td>22</td>\n",
       "      <td>6398</td>\n",
       "      <td>141</td>\n",
       "      <td>3</td>\n",
       "      <td>23</td>\n",
       "      <td>1</td>\n",
       "    </tr>\n",
       "  </tbody>\n",
       "</table>\n",
       "<p>5000 rows × 16 columns</p>\n",
       "</div>"
      ],
      "text/plain": [
       "       Rooms   Square  LifeSquare  KitchenSquare    Floor  HouseFloor  \\\n",
       "0    2.00000 49.88264    33.43278        6.00000  6.00000    14.00000   \n",
       "1    2.00000 69.26318    44.02327        7.91379  1.00000     1.00000   \n",
       "2    1.00000 13.59782     8.64269       12.00000  2.00000     5.00000   \n",
       "3    2.00000 73.04661    51.94084        9.00000 22.00000    22.00000   \n",
       "4    1.00000 47.52711    43.38757        5.43029 17.00000    17.00000   \n",
       "...      ...      ...         ...            ...      ...         ...   \n",
       "4995 3.00000 67.13391    50.80980        6.00000  5.00000     9.00000   \n",
       "4996 1.00000 40.19847    21.80706       10.00000 12.00000    17.00000   \n",
       "4997 3.00000 77.84218    48.28263        9.00000 22.00000    22.00000   \n",
       "4998 2.00000 81.30522    51.67712        9.28967  4.00000    13.00000   \n",
       "4999 2.00000 60.55569    38.48884        6.91890 10.00000    17.00000   \n",
       "\n",
       "      HouseYear  Ecology_1  Ecology_2_bin  Ecology_3_bin  Social_1  Social_2  \\\n",
       "0          1972    0.31020              1              1        11      2748   \n",
       "1          1977    0.07578              1              1         6      1437   \n",
       "2          1909    0.00000              1              1        30      7538   \n",
       "3          2007    0.10187              1              1        23      4583   \n",
       "4          2017    0.07216              1              1         2       629   \n",
       "...         ...        ...            ...            ...       ...       ...   \n",
       "4995       1973    0.00017              1              1        36      5992   \n",
       "4996       2017    0.00712              1              1         1       264   \n",
       "4997       1989    0.09080              1              1        74     19083   \n",
       "4998       1977    0.07216              1              1         2       629   \n",
       "4999       1977    0.00008              1              1        22      6398   \n",
       "\n",
       "      Social_3  Helthcare_2  Shops_1  Shops_2_bin  \n",
       "0            1            0        0            1  \n",
       "1            3            0        2            1  \n",
       "2           87            5        5            1  \n",
       "3            3            3        3            1  \n",
       "4            1            0        0            0  \n",
       "...        ...          ...      ...          ...  \n",
       "4995         0            1        1            1  \n",
       "4996         0            0        1            1  \n",
       "4997         2            5       15            1  \n",
       "4998         1            0        0            0  \n",
       "4999       141            3       23            1  \n",
       "\n",
       "[5000 rows x 16 columns]"
      ]
     },
     "execution_count": 60,
     "metadata": {},
     "output_type": "execute_result"
    }
   ],
   "source": [
    "test_df[feature_names]"
   ]
  },
  {
   "cell_type": "code",
   "execution_count": 61,
   "metadata": {
    "ExecuteTime": {
     "end_time": "2020-07-09T20:46:53.811270Z",
     "start_time": "2020-07-09T20:46:53.804744Z"
    }
   },
   "outputs": [],
   "source": [
    "test_df[target_name] = y_pred_test"
   ]
  },
  {
   "cell_type": "code",
   "execution_count": 62,
   "metadata": {
    "ExecuteTime": {
     "end_time": "2020-07-09T20:46:53.834995Z",
     "start_time": "2020-07-09T20:46:53.815266Z"
    }
   },
   "outputs": [
    {
     "name": "stdout",
     "output_type": "stream",
     "text": [
      "<class 'pandas.core.frame.DataFrame'>\n",
      "RangeIndex: 5000 entries, 0 to 4999\n",
      "Data columns (total 22 columns):\n",
      " #   Column         Non-Null Count  Dtype  \n",
      "---  ------         --------------  -----  \n",
      " 0   Id             5000 non-null   int64  \n",
      " 1   DistrictId     5000 non-null   object \n",
      " 2   Rooms          5000 non-null   float64\n",
      " 3   Square         5000 non-null   float64\n",
      " 4   LifeSquare     5000 non-null   float64\n",
      " 5   KitchenSquare  5000 non-null   float64\n",
      " 6   Floor          5000 non-null   float64\n",
      " 7   HouseFloor     5000 non-null   float64\n",
      " 8   HouseYear      5000 non-null   int64  \n",
      " 9   Ecology_1      5000 non-null   float64\n",
      " 10  Ecology_2      5000 non-null   object \n",
      " 11  Ecology_3      5000 non-null   object \n",
      " 12  Social_1       5000 non-null   int64  \n",
      " 13  Social_2       5000 non-null   int64  \n",
      " 14  Social_3       5000 non-null   int64  \n",
      " 15  Helthcare_2    5000 non-null   int64  \n",
      " 16  Shops_1        5000 non-null   int64  \n",
      " 17  Shops_2        5000 non-null   object \n",
      " 18  Ecology_2_bin  5000 non-null   int64  \n",
      " 19  Ecology_3_bin  5000 non-null   int64  \n",
      " 20  Shops_2_bin    5000 non-null   int64  \n",
      " 21  Price          5000 non-null   float64\n",
      "dtypes: float64(8), int64(10), object(4)\n",
      "memory usage: 859.5+ KB\n"
     ]
    }
   ],
   "source": [
    "test_df.info()"
   ]
  },
  {
   "cell_type": "code",
   "execution_count": 63,
   "metadata": {
    "ExecuteTime": {
     "end_time": "2020-07-09T20:46:53.872732Z",
     "start_time": "2020-07-09T20:46:53.838820Z"
    }
   },
   "outputs": [],
   "source": [
    "test_df[['Id','Price']].to_csv('submission.csv', index=None)"
   ]
  },
  {
   "cell_type": "code",
   "execution_count": 64,
   "metadata": {
    "ExecuteTime": {
     "end_time": "2020-07-09T20:46:53.884563Z",
     "start_time": "2020-07-09T20:46:53.874793Z"
    }
   },
   "outputs": [
    {
     "data": {
      "text/plain": [
       "(5000, 2)"
      ]
     },
     "execution_count": 64,
     "metadata": {},
     "output_type": "execute_result"
    }
   ],
   "source": [
    "test_df[['Id','Price']].shape"
   ]
  },
  {
   "cell_type": "code",
   "execution_count": 65,
   "metadata": {
    "ExecuteTime": {
     "end_time": "2020-07-09T20:46:53.905722Z",
     "start_time": "2020-07-09T20:46:53.887977Z"
    }
   },
   "outputs": [
    {
     "data": {
      "text/html": [
       "<div>\n",
       "<style scoped>\n",
       "    .dataframe tbody tr th:only-of-type {\n",
       "        vertical-align: middle;\n",
       "    }\n",
       "\n",
       "    .dataframe tbody tr th {\n",
       "        vertical-align: top;\n",
       "    }\n",
       "\n",
       "    .dataframe thead th {\n",
       "        text-align: right;\n",
       "    }\n",
       "</style>\n",
       "<table border=\"1\" class=\"dataframe\">\n",
       "  <thead>\n",
       "    <tr style=\"text-align: right;\">\n",
       "      <th></th>\n",
       "      <th>Id</th>\n",
       "      <th>Price</th>\n",
       "    </tr>\n",
       "  </thead>\n",
       "  <tbody>\n",
       "    <tr>\n",
       "      <th>0</th>\n",
       "      <td>725</td>\n",
       "      <td>166336.60057</td>\n",
       "    </tr>\n",
       "    <tr>\n",
       "      <th>1</th>\n",
       "      <td>15856</td>\n",
       "      <td>182785.30162</td>\n",
       "    </tr>\n",
       "    <tr>\n",
       "      <th>2</th>\n",
       "      <td>5480</td>\n",
       "      <td>247351.68619</td>\n",
       "    </tr>\n",
       "    <tr>\n",
       "      <th>3</th>\n",
       "      <td>15664</td>\n",
       "      <td>342090.85550</td>\n",
       "    </tr>\n",
       "    <tr>\n",
       "      <th>4</th>\n",
       "      <td>14275</td>\n",
       "      <td>137667.10349</td>\n",
       "    </tr>\n",
       "    <tr>\n",
       "      <th>...</th>\n",
       "      <td>...</td>\n",
       "      <td>...</td>\n",
       "    </tr>\n",
       "    <tr>\n",
       "      <th>4995</th>\n",
       "      <td>8180</td>\n",
       "      <td>253315.27126</td>\n",
       "    </tr>\n",
       "    <tr>\n",
       "      <th>4996</th>\n",
       "      <td>4695</td>\n",
       "      <td>129751.48505</td>\n",
       "    </tr>\n",
       "    <tr>\n",
       "      <th>4997</th>\n",
       "      <td>5783</td>\n",
       "      <td>330056.68048</td>\n",
       "    </tr>\n",
       "    <tr>\n",
       "      <th>4998</th>\n",
       "      <td>4780</td>\n",
       "      <td>213443.26038</td>\n",
       "    </tr>\n",
       "    <tr>\n",
       "      <th>4999</th>\n",
       "      <td>12504</td>\n",
       "      <td>150215.00921</td>\n",
       "    </tr>\n",
       "  </tbody>\n",
       "</table>\n",
       "<p>5000 rows × 2 columns</p>\n",
       "</div>"
      ],
      "text/plain": [
       "         Id        Price\n",
       "0       725 166336.60057\n",
       "1     15856 182785.30162\n",
       "2      5480 247351.68619\n",
       "3     15664 342090.85550\n",
       "4     14275 137667.10349\n",
       "...     ...          ...\n",
       "4995   8180 253315.27126\n",
       "4996   4695 129751.48505\n",
       "4997   5783 330056.68048\n",
       "4998   4780 213443.26038\n",
       "4999  12504 150215.00921\n",
       "\n",
       "[5000 rows x 2 columns]"
      ]
     },
     "execution_count": 65,
     "metadata": {},
     "output_type": "execute_result"
    }
   ],
   "source": [
    "test_df[['Id','Price']]"
   ]
  }
 ],
 "metadata": {
  "kernelspec": {
   "display_name": "Python 3",
   "language": "python",
   "name": "python3"
  },
  "language_info": {
   "codemirror_mode": {
    "name": "ipython",
    "version": 3
   },
   "file_extension": ".py",
   "mimetype": "text/x-python",
   "name": "python",
   "nbconvert_exporter": "python",
   "pygments_lexer": "ipython3",
   "version": "3.7.6"
  }
 },
 "nbformat": 4,
 "nbformat_minor": 4
}
